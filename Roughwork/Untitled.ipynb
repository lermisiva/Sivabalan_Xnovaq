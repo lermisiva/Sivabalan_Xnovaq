{
 "cells": [
  {
   "cell_type": "code",
   "execution_count": 26,
   "id": "d0b92414-3058-45ee-9f40-0fd160c3620c",
   "metadata": {},
   "outputs": [
    {
     "name": "stdout",
     "output_type": "stream",
     "text": [
      "mam\n"
     ]
    }
   ],
   "source": [
    "n = \"mam\"\n",
    "i = \"\"\n",
    "for i in n:\n",
    "    if i in n:\n",
    "        i = n[::-1]\n",
    "    \n",
    "if i == n:\n",
    "    print(i)\n",
    "else:\n",
    "    print(\"np\")\n",
    "    \n",
    "\n",
    "\n",
    "# def palindrome():\n",
    "#     m = \"\"\n",
    "#     for  i in n:\n",
    "#         if i in m:\n",
    "#             m[i] -=1\n",
    "#             print(m)\n",
    "    \n",
    "            \n",
    "# palindrome()\n",
    "    # for i in n:\n",
    "    #     if i in m:\n",
    "    #         print(\n",
    "    \n",
    "     "
   ]
  },
  {
   "cell_type": "code",
   "execution_count": 13,
   "id": "4f0752ea-62db-4e16-b648-6de228299b75",
   "metadata": {},
   "outputs": [],
   "source": [
    "try:\n",
    "    \n",
    "    for i in l:\n",
    "        if i == n< 0:\n",
    "            raise \"negative value\"\n",
    "        else:\n",
    "            pass\n",
    "except IndexError:\n",
    "    print(\"Index error\")\n",
    "    "
   ]
  },
  {
   "cell_type": "code",
   "execution_count": null,
   "id": "fcf20904-cc7a-4d82-a5a8-9be2fb8e22ff",
   "metadata": {},
   "outputs": [],
   "source": []
  }
 ],
 "metadata": {
  "kernelspec": {
   "display_name": "Python 3 (ipykernel)",
   "language": "python",
   "name": "python3"
  },
  "language_info": {
   "codemirror_mode": {
    "name": "ipython",
    "version": 3
   },
   "file_extension": ".py",
   "mimetype": "text/x-python",
   "name": "python",
   "nbconvert_exporter": "python",
   "pygments_lexer": "ipython3",
   "version": "3.11.9"
  }
 },
 "nbformat": 4,
 "nbformat_minor": 5
}
