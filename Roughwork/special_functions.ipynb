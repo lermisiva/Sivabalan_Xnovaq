{
 "cells": [
  {
   "cell_type": "code",
   "execution_count": 51,
   "id": "26b62dbc-3d6b-4723-8646-62fb3b3ea9a1",
   "metadata": {},
   "outputs": [
    {
     "name": "stdout",
     "output_type": "stream",
     "text": [
      "16\n"
     ]
    }
   ],
   "source": [
    "#lambda function\n",
    "#anonymous expressions, meaning they have no name unless explicitly assigned to a variable.\n",
    "#lambda arguments:expressions\n",
    "square = lambda x: x * x if x%2==0 else 0\n",
    "print(square(4))  "
   ]
  },
  {
   "cell_type": "code",
   "execution_count": 12,
   "id": "833ae30c-9b17-449f-983c-c0c4c51bc6ba",
   "metadata": {},
   "outputs": [
    {
     "name": "stdout",
     "output_type": "stream",
     "text": [
      "<map object at 0x0000022865232B60>\n",
      "[0, 4, 0, 16, 0, 36, 0]\n"
     ]
    }
   ],
   "source": [
    "#map function\n",
    "#used to apply a specific function to each element of an iterable (like a list, tuple, or set) and returns a map object (which is an iterator).\n",
    "#map(function, iterable)\n",
    "new_list = [1,2,3,4,5,6,7]\n",
    "conversion_list = map(square,new_list)\n",
    "print(conversion_list)\n",
    "print(list(conversion_list)) \n"
   ]
  },
  {
   "cell_type": "code",
   "execution_count": 53,
   "id": "23f8bda2-ca33-46b1-9384-1293b87cd4ae",
   "metadata": {},
   "outputs": [
    {
     "name": "stdout",
     "output_type": "stream",
     "text": [
      "50400\n"
     ]
    }
   ],
   "source": [
    "#reduce function\n",
    "#used to apply a function of two arguments cumulatively to the items of an iterable, reducing the iterable to a single value.\n",
    "#reduce(function,iterable,[initializer])\n",
    "from functools import reduce\n",
    "conversion_reduce = reduce(lambda x,y: x*y, new_list,10)\n",
    "print(conversion_reduce)"
   ]
  },
  {
   "cell_type": "code",
   "execution_count": 54,
   "id": "33ae71dc-1fd3-44c4-b88d-7a8fe5e9daf4",
   "metadata": {},
   "outputs": [
    {
     "name": "stdout",
     "output_type": "stream",
     "text": [
      "[1, -1, -4, -8, -13, -19, -26]\n"
     ]
    }
   ],
   "source": [
    "#accumulate function\n",
    "#function is applied at each iteration to accumulate the result. \n",
    "#accumulate(function=None,iterable) default\n",
    "\n",
    "from itertools import accumulate\n",
    "accumulate_conversion = accumulate(new_list,lambda x,y : x-y)\n",
    "print(list(accumulate_conversion))"
   ]
  },
  {
   "cell_type": "code",
   "execution_count": 55,
   "id": "6b576efc-68e4-4477-b761-7e1824923cba",
   "metadata": {},
   "outputs": [
    {
     "name": "stdout",
     "output_type": "stream",
     "text": [
      "[1, 2, 3, 4, 5, 6, 7]\n",
      "[2, 4, 6]\n"
     ]
    }
   ],
   "source": [
    "#filter function\n",
    "#extract elements from an iterable (like a list, tuple or set) that satisfy a given condition.\n",
    "#It works by applying a function to each element and keeping only those for which function returns True.\n",
    "#filter(function, iterable)\n",
    "print(new_list)\n",
    "b = filter(square, new_list)\n",
    "print(list(b)) \n"
   ]
  },
  {
   "cell_type": "code",
   "execution_count": 46,
   "id": "f9e6af2c-d1f5-4d35-b14d-67bb0a9bf399",
   "metadata": {},
   "outputs": [
    {
     "name": "stdout",
     "output_type": "stream",
     "text": [
      "[2, 4, 6]\n",
      "<map object at 0x00000228653E9900>\n",
      "[4, 8, 12]\n"
     ]
    }
   ],
   "source": [
    "a = [1, 2, 3, 4, 5, 6]\n",
    "b = filter(lambda x: x % 2 == 0, a)\n",
    "b=list(b)\n",
    "print(b)\n",
    "c = map(lambda x: x * 2, b)\n",
    "print(c)\n",
    "print(list(c))"
   ]
  },
  {
   "cell_type": "code",
   "execution_count": 47,
   "id": "459a9f77-5e26-4cbd-b39d-32fbc90a7d7b",
   "metadata": {},
   "outputs": [
    {
     "name": "stdout",
     "output_type": "stream",
     "text": [
      "3 1\n",
      "4 2\n",
      "5 3\n",
      "6 4\n",
      "7 5\n",
      "8 6\n",
      "9 7\n"
     ]
    }
   ],
   "source": [
    "#enumerate function\n",
    "#access both the index and the value of each item in the iterable\n",
    "#enumerate(iterable, start=0)\n",
    "for i,j in enumerate(new_list,3):\n",
    "    print(i,j)\n"
   ]
  },
  {
   "cell_type": "code",
   "execution_count": 56,
   "id": "4ad40432-9897-41ca-bf4f-4f7c3ab7299d",
   "metadata": {},
   "outputs": [
    {
     "name": "stdout",
     "output_type": "stream",
     "text": [
      "<tuple_iterator object at 0x0000022865393370>\n",
      "this\n",
      "is\n",
      "iterator-function\n"
     ]
    }
   ],
   "source": [
    "#iterator\n",
    "#An iterator is an object which contains a countable number of values\n",
    "#iter() - create an iterator containing an iterable object.\n",
    "#next() - call the next element in the iterable object.\n",
    "iter_list = iter(('this', 'is', 'iterator-function'))\n",
    "print(iter_list)\n",
    "print(next(iter_list))\n",
    "print(next(iter_list))\n",
    "print(next(iter_list))\n"
   ]
  },
  {
   "cell_type": "code",
   "execution_count": 19,
   "id": "6607c73b-c2a5-4e7d-aaa2-66b67ffe0ba6",
   "metadata": {},
   "outputs": [],
   "source": [
    "#yield - generator\n",
    "#returns an iterator, which yields values one at a time.\n"
   ]
  },
  {
   "cell_type": "code",
   "execution_count": 50,
   "id": "c4c8f132-b004-4ae5-b8f7-e128daa46462",
   "metadata": {},
   "outputs": [
    {
     "name": "stdout",
     "output_type": "stream",
     "text": [
      "1\n",
      "4\n",
      "9\n",
      "16\n"
     ]
    },
    {
     "ename": "StopIteration",
     "evalue": "",
     "output_type": "error",
     "traceback": [
      "\u001b[31m---------------------------------------------------------------------------\u001b[39m",
      "\u001b[31mStopIteration\u001b[39m                             Traceback (most recent call last)",
      "\u001b[36mCell\u001b[39m\u001b[36m \u001b[39m\u001b[32mIn[50]\u001b[39m\u001b[32m, line 10\u001b[39m\n\u001b[32m      8\u001b[39m \u001b[38;5;28mprint\u001b[39m(\u001b[38;5;28mnext\u001b[39m(a)) \n\u001b[32m      9\u001b[39m \u001b[38;5;28mprint\u001b[39m(\u001b[38;5;28mnext\u001b[39m(a)) \n\u001b[32m---> \u001b[39m\u001b[32m10\u001b[39m \u001b[38;5;28mprint\u001b[39m(\u001b[38;5;28;43mnext\u001b[39;49m\u001b[43m(\u001b[49m\u001b[43ma\u001b[49m\u001b[43m)\u001b[49m) \n",
      "\u001b[31mStopIteration\u001b[39m: "
     ]
    }
   ],
   "source": [
    "def sq_numbers(n):\n",
    "    for i in range(1, n+1):\n",
    "        yield i*i\n",
    "\n",
    "a = sq_numbers(4) \n",
    "print(next(a))\n",
    "print(next(a)) \n",
    "print(next(a)) \n",
    "print(next(a)) \n",
    "print(next(a)) "
   ]
  },
  {
   "cell_type": "code",
   "execution_count": 21,
   "id": "419740ea-13d3-4ed7-a956-119e450f00d2",
   "metadata": {},
   "outputs": [
    {
     "ename": "NameError",
     "evalue": "name 'counter' is not defined",
     "output_type": "error",
     "traceback": [
      "\u001b[31m---------------------------------------------------------------------------\u001b[39m",
      "\u001b[31mNameError\u001b[39m                                 Traceback (most recent call last)",
      "\u001b[36mCell\u001b[39m\u001b[36m \u001b[39m\u001b[32mIn[21]\u001b[39m\u001b[32m, line 15\u001b[39m\n\u001b[32m     11\u001b[39m         \u001b[38;5;28mprint\u001b[39m(\u001b[33mf\u001b[39m\u001b[33m\"\u001b[39m\u001b[33mCurrent global counter: \u001b[39m\u001b[38;5;132;01m{\u001b[39;00mcounter\u001b[38;5;132;01m}\u001b[39;00m\u001b[33m\"\u001b[39m)\n\u001b[32m     13\u001b[39m obj1 = MyClass()\n\u001b[32m---> \u001b[39m\u001b[32m15\u001b[39m \u001b[43mobj1\u001b[49m\u001b[43m.\u001b[49m\u001b[43mincrease_counter\u001b[49m\u001b[43m(\u001b[49m\u001b[43m)\u001b[49m\n",
      "\u001b[36mCell\u001b[39m\u001b[36m \u001b[39m\u001b[32mIn[21]\u001b[39m\u001b[32m, line 7\u001b[39m, in \u001b[36mMyClass.increase_counter\u001b[39m\u001b[34m(self)\u001b[39m\n\u001b[32m      5\u001b[39m \u001b[38;5;28;01mdef\u001b[39;00m\u001b[38;5;250m \u001b[39m\u001b[34mincrease_counter\u001b[39m(\u001b[38;5;28mself\u001b[39m):\n\u001b[32m      6\u001b[39m     \u001b[38;5;28;01mglobal\u001b[39;00m counter  \n\u001b[32m----> \u001b[39m\u001b[32m7\u001b[39m     \u001b[43mcounter\u001b[49m += \u001b[32m1\u001b[39m\n\u001b[32m      8\u001b[39m     \u001b[38;5;28mprint\u001b[39m(\u001b[33mf\u001b[39m\u001b[33m\"\u001b[39m\u001b[33mCounter is now: \u001b[39m\u001b[38;5;132;01m{\u001b[39;00mcounter\u001b[38;5;132;01m}\u001b[39;00m\u001b[33m\"\u001b[39m)\n",
      "\u001b[31mNameError\u001b[39m: name 'counter' is not defined"
     ]
    }
   ],
   "source": [
    "#global variable\n",
    "class MyClass:\n",
    "    counter = 0  \n",
    "\n",
    "    def increase_counter(self):\n",
    "        global counter  \n",
    "        counter += 1\n",
    "        print(f\"Counter is now: {counter}\")\n",
    "\n",
    "    def show_counter(self):\n",
    "        print(f\"Current global counter: {counter}\")\n",
    "\n",
    "obj1 = MyClass()\n",
    "\n",
    "obj1.increase_counter()"
   ]
  },
  {
   "cell_type": "code",
   "execution_count": 30,
   "id": "34045262-cc7f-461a-8ada-f13f9cfcbea9",
   "metadata": {},
   "outputs": [
    {
     "name": "stdout",
     "output_type": "stream",
     "text": [
      "innerfunction: 19\n",
      "outerfunction: 19\n"
     ]
    }
   ],
   "source": [
    "def outer_function():\n",
    "    x = 18  \n",
    "    def inner_function():\n",
    "        nonlocal x \n",
    "        x+=1\n",
    "        print(\"innerfunction:\", x)\n",
    "\n",
    "    inner_function()\n",
    "    print(\"outerfunction:\", x)\n",
    "\n",
    "outer_function()"
   ]
  },
  {
   "cell_type": "code",
   "execution_count": 57,
   "id": "46370b2f-6de4-486f-a4e6-184e58be194d",
   "metadata": {},
   "outputs": [
    {
     "name": "stdout",
     "output_type": "stream",
     "text": [
      "{1: 'a', 2: 'b', 3: 'c'}\n"
     ]
    }
   ],
   "source": [
    "list1 = [1, 2, 3]\n",
    "list2 = ['a', 'b', 'c']\n",
    "zipped_lists = zip(list1, list2)\n",
    "\n",
    "print(dict(zipped_lists))\n"
   ]
  },
  {
   "cell_type": "code",
   "execution_count": 4,
   "id": "4bec170e-7a38-440a-b7d9-4973e04ea167",
   "metadata": {},
   "outputs": [
    {
     "name": "stdout",
     "output_type": "stream",
     "text": [
      "* * * * * \n",
      "0 * * * 0 \n",
      "0 0 * 0 0 \n",
      "0 * * * 0 \n",
      "* * * * * \n"
     ]
    }
   ],
   "source": [
    "n = 5  \n",
    "\n",
    "for i in range(n):\n",
    "    for j in range(n):\n",
    "        if i == 0 or i == n-1:  \n",
    "            print('*', end=' ')\n",
    "        elif j == n//2:  # Middle column\n",
    "            #print(j)\n",
    "            print('*', end=' ')\n",
    "        elif (i == 1 or i == n-2) and (j != 0 and j != n-1):\n",
    "            print('*', end=' ')\n",
    "        else:\n",
    "            print('0', end=' ')\n",
    "    print()  \n"
   ]
  },
  {
   "cell_type": "code",
   "execution_count": null,
   "id": "6aa0b605-06e2-499f-b9be-c101e27a52e9",
   "metadata": {},
   "outputs": [],
   "source": []
  }
 ],
 "metadata": {
  "kernelspec": {
   "display_name": "Python 3 (ipykernel)",
   "language": "python",
   "name": "python3"
  },
  "language_info": {
   "codemirror_mode": {
    "name": "ipython",
    "version": 3
   },
   "file_extension": ".py",
   "mimetype": "text/x-python",
   "name": "python",
   "nbconvert_exporter": "python",
   "pygments_lexer": "ipython3",
   "version": "3.11.9"
  }
 },
 "nbformat": 4,
 "nbformat_minor": 5
}
