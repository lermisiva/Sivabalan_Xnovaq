{
 "cells": [
  {
   "cell_type": "markdown",
   "id": "93f97d31-7ed5-4f90-b9da-9c3b6d8fc9fa",
   "metadata": {},
   "source": [
    "# Single Inheritance"
   ]
  },
  {
   "cell_type": "code",
   "execution_count": 4,
   "id": "48b6e5a2-a8cb-4ab9-85aa-e5e11ccb911d",
   "metadata": {},
   "outputs": [
    {
     "name": "stdout",
     "output_type": "stream",
     "text": [
      "Buddy\n",
      "Hello\n"
     ]
    }
   ],
   "source": [
    "# Parent to child\n",
    "class Parent:\n",
    "    def parent(self):\n",
    "        print(\"Hello\")\n",
    "class child(Parent):\n",
    "    def child(self):\n",
    "        print(\"Buddy\")\n",
    "c = child()\n",
    "c.child()\n",
    "c.parent()"
   ]
  },
  {
   "cell_type": "markdown",
   "id": "21456ada-d67d-4412-90ca-c81d6f91465d",
   "metadata": {},
   "source": [
    "# Multiple Inheritance"
   ]
  },
  {
   "cell_type": "code",
   "execution_count": 9,
   "id": "81535e61-2bb9-4102-8b83-d184aa07218b",
   "metadata": {},
   "outputs": [
    {
     "name": "stdout",
     "output_type": "stream",
     "text": [
      "father name: Tom\n",
      "mother name: jerry\n"
     ]
    }
   ],
   "source": [
    "# Multiple parent single child\n",
    "class Dad:\n",
    "    dadname = \"\"\n",
    "    def dad(self):\n",
    "        print(self.dadname)\n",
    "class Mom:\n",
    "    momname = \"\"\n",
    "    def mom(self):\n",
    "        print(self.momname)\n",
    "class child(Dad,Mom):\n",
    "    def child(self):\n",
    "        print(\"father name:\",self.dadname)\n",
    "        print(\"mother name:\",self.momname)\n",
    "c = child()\n",
    "c.dadname = \"Tom\"\n",
    "c.momname = \"jerry\"\n",
    "c.child()\n",
    "    \n",
    "    "
   ]
  },
  {
   "cell_type": "markdown",
   "id": "f24f8c94-4f1f-4a66-9226-2f2e4b11d039",
   "metadata": {},
   "source": [
    "# Multilevel Inheritance"
   ]
  },
  {
   "cell_type": "code",
   "execution_count": 20,
   "id": "b929af05-1288-43cb-8064-18b4c2341ae3",
   "metadata": {},
   "outputs": [
    {
     "name": "stdout",
     "output_type": "stream",
     "text": [
      "name siva surname: balan lastname: selvaraj\n",
      "balan\n"
     ]
    }
   ],
   "source": [
    "# dad to mom to child like a->b->c\n",
    "class Dad:\n",
    "    def __init__(self,name):\n",
    "        self.name = name\n",
    "class mom(Dad):\n",
    "    def __init__(self,name,surname):\n",
    "        super().__init__(name)\n",
    "        self.surname = surname\n",
    "class son(mom):\n",
    "    def __init__(self,name,surname,lastname):\n",
    "         super().__init__(name,surname)\n",
    "         self.lastname = lastname\n",
    "    def details(self):\n",
    "        print(\"name\",self.name,\"surname:\",self.surname,\"lastname:\",self.lastname)\n",
    "s= son(\"siva\",\"balan\",\"selvaraj\")\n",
    "s.details()\n",
    "print(s.surname)"
   ]
  },
  {
   "cell_type": "markdown",
   "id": "fa9f04f2-5469-47b2-9a59-2b6b17f77405",
   "metadata": {},
   "source": [
    "# Hierarichal Inheritance"
   ]
  },
  {
   "cell_type": "code",
   "execution_count": 21,
   "id": "671b02e3-f35d-4bc6-80bf-97a7fca72144",
   "metadata": {},
   "outputs": [
    {
     "name": "stdout",
     "output_type": "stream",
     "text": [
      "Title : PS \n",
      "Author : Kalki \n",
      "ISBN : 974\n",
      "\n",
      "Title : Aayutha Ezhuthu \n",
      "Author : Mani Ratnam \n",
      "Runtime : 164\n"
     ]
    }
   ],
   "source": [
    "# 10.Create a class LibraryItem with __init__ for title and author. Create a subclass Book that inherits from LibraryItem and adds isbn. Override a \n",
    "# method called display_details() to show all details. Create a second subclass DVD that inherits from LibraryItem and adds runtime. Override\n",
    "# display_details()  to show its specific details.\n",
    "# isbn = international standard book number\n",
    "# HIERARICHAL INHERITANCE =>single parent multiple child\n",
    "class Library:\n",
    "    def __init__(self,title,author):\n",
    "        self.title = title\n",
    "        self.author = author\n",
    "    def details(self):\n",
    "        print(\"Details\",self.title,self.author)\n",
    "\n",
    "class Book(Library):\n",
    "    def __init__(self,title,author,isbn):\n",
    "        super().__init__(title,author)\n",
    "        self.isbn = isbn\n",
    "    def details(self):\n",
    "        print(\"Title :\",self.title,\"\\nAuthor :\",self.author,\"\\nISBN :\",self.isbn)\n",
    "class DVD(Library):\n",
    "    def __init__(self,title,author,runtime):\n",
    "        super().__init__(title,author)\n",
    "        self.runtime = runtime\n",
    "    def details(self):\n",
    "        print(\"\\nTitle :\",self.title,\"\\nAuthor :\",self.author,\"\\nRuntime :\",self.runtime)\n",
    "b = Book(\"PS\", \"Kalki\", \"974\")\n",
    "d = DVD(\"Aayutha Ezhuthu\", \"Mani Ratnam\",164)\n",
    "\n",
    "b.details()\n",
    "d.details()\n",
    "\n",
    "\n",
    "    \n",
    "        "
   ]
  },
  {
   "cell_type": "markdown",
   "id": "e885b7b7-8521-4951-b1d6-a8139a536d7d",
   "metadata": {},
   "source": [
    "# Hybrid Inheritance"
   ]
  },
  {
   "cell_type": "code",
   "execution_count": null,
   "id": "a01087d9-e344-4fd2-9a0f-8a1926794720",
   "metadata": {},
   "outputs": [],
   "source": [
    "# this is the combination of hierarichal and multilevel inheritance\n"
   ]
  }
 ],
 "metadata": {
  "kernelspec": {
   "display_name": "Python 3 (ipykernel)",
   "language": "python",
   "name": "python3"
  },
  "language_info": {
   "codemirror_mode": {
    "name": "ipython",
    "version": 3
   },
   "file_extension": ".py",
   "mimetype": "text/x-python",
   "name": "python",
   "nbconvert_exporter": "python",
   "pygments_lexer": "ipython3",
   "version": "3.11.9"
  }
 },
 "nbformat": 4,
 "nbformat_minor": 5
}
