{
 "cells": [
  {
   "cell_type": "code",
   "execution_count": 2,
   "id": "0e9a9b70-e870-4e60-beae-d52ad41c4dac",
   "metadata": {},
   "outputs": [
    {
     "name": "stdout",
     "output_type": "stream",
     "text": [
      "<function outer.<locals>.inner at 0x000001F92E8A1DA0>\n",
      "11\n"
     ]
    }
   ],
   "source": [
    "#Decorative functions\n",
    "#decorators are used to modify or extend behavior of functions or methods, without changing their actual code. \n",
    "def outer(x):\n",
    "    def inner(y):\n",
    "        return x + y\n",
    "    return inner\n",
    "\n",
    "add_five = outer(5)\n",
    "print(add_five)\n",
    "result = add_five(6)\n",
    "print(result)  \n",
    "\n"
   ]
  },
  {
   "cell_type": "code",
   "execution_count": 15,
   "id": "36cdcdc4-bc46-4f0c-8388-5208807e6e27",
   "metadata": {},
   "outputs": [
    {
     "name": "stdout",
     "output_type": "stream",
     "text": [
      "11\n"
     ]
    }
   ],
   "source": [
    "def outer(x,y):\n",
    "    def inner():\n",
    "        return x + y\n",
    "    return inner\n",
    "\n",
    "add_five = outer(5,6)\n",
    "print(add_five())\n",
    "# result = add_five(6)\n",
    "# print(result)  \n"
   ]
  },
  {
   "cell_type": "code",
   "execution_count": 2,
   "id": "433d8b71-b1c5-4014-bf43-b6ecbd3501b3",
   "metadata": {},
   "outputs": [
    {
     "name": "stdout",
     "output_type": "stream",
     "text": [
      "addition process\n"
     ]
    },
    {
     "data": {
      "text/plain": [
       "11"
      ]
     },
     "execution_count": 2,
     "metadata": {},
     "output_type": "execute_result"
    }
   ],
   "source": [
    "def new_process(func,*args):\n",
    "    print(\"addition process\")\n",
    "    return func(*args)\n",
    "\n",
    "def sum(a,b):\n",
    "    return a+b\n",
    "\n",
    "new_process(sum,5,6)"
   ]
  },
  {
   "cell_type": "code",
   "execution_count": 16,
   "id": "974f8e50-53ef-4274-8d58-5331382ab610",
   "metadata": {},
   "outputs": [
    {
     "name": "stdout",
     "output_type": "stream",
     "text": [
      "addition process\n"
     ]
    },
    {
     "data": {
      "text/plain": [
       "5"
      ]
     },
     "execution_count": 16,
     "metadata": {},
     "output_type": "execute_result"
    }
   ],
   "source": [
    "def new_function(new_f):\n",
    "    def new_1(x,y):\n",
    "       print(\"addition process\")\n",
    "       return new_f(x,y)\n",
    "    \n",
    "    return new_1\n",
    "    \n",
    "@new_function\n",
    "def add(a,b):\n",
    "    return a+b\n",
    "add(2,3)\n",
    "# new_function(add,5,6)"
   ]
  },
  {
   "cell_type": "code",
   "execution_count": 18,
   "id": "6088a103-5f66-48f0-8ab6-2840936790bc",
   "metadata": {},
   "outputs": [
    {
     "name": "stdout",
     "output_type": "stream",
     "text": [
      "I got decorated\n",
      "I am ordinary\n"
     ]
    }
   ],
   "source": [
    "def make_pretty(func):\n",
    "\n",
    "    def inner():\n",
    "        print(\"I got decorated\")\n",
    "        func()\n",
    "    return inner\n",
    "\n",
    "@make_pretty\n",
    "def ordinary():\n",
    "    print(\"I am ordinary\")\n",
    "\n",
    "ordinary()  "
   ]
  },
  {
   "cell_type": "code",
   "execution_count": 8,
   "id": "a57539b6-2cab-49f3-aa9c-927d47b2f550",
   "metadata": {},
   "outputs": [
    {
     "name": "stdout",
     "output_type": "stream",
     "text": [
      "divide 2 and 5\n",
      "0.4\n",
      "divide 2 and 0\n",
      "cannot divide\n"
     ]
    }
   ],
   "source": [
    "def smart_divide(func):\n",
    "    def inner(a, b):\n",
    "        print(\"divide\", a, \"and\", b)\n",
    "        if b == 0:\n",
    "            print(\"cannot divide\")\n",
    "            return\n",
    "\n",
    "        return func(a, b)\n",
    "    return inner\n",
    "\n",
    "@smart_divide\n",
    "def divide(a, b):\n",
    "    print(a/b)\n",
    "\n",
    "divide(2,5)\n",
    "\n",
    "divide(2,0)"
   ]
  },
  {
   "cell_type": "code",
   "execution_count": 19,
   "id": "9aae48c0-bdea-4212-a8d2-d7e4658d1528",
   "metadata": {},
   "outputs": [
    {
     "name": "stdout",
     "output_type": "stream",
     "text": [
      "Name starts\n",
      "Name ends\n",
      "9\n"
     ]
    }
   ],
   "source": [
    "class MyDecorator:\n",
    "    def __init__(self, func):\n",
    "        self.func = func\n",
    "\n",
    "    def __call__(self, *args, **kwargs):\n",
    "        print(\"Name starts\")\n",
    "        result = self.func(*args, **kwargs)\n",
    "        print(\"Name ends\")\n",
    "        return result\n",
    "\n",
    "@MyDecorator\n",
    "def add(a,b):\n",
    "    return a+b\n",
    "    \n",
    "print(add(4,5))\n"
   ]
  },
  {
   "cell_type": "code",
   "execution_count": 20,
   "id": "7ca179a6-690a-492c-acae-3d8f22312226",
   "metadata": {},
   "outputs": [
    {
     "name": "stdout",
     "output_type": "stream",
     "text": [
      "Calling say_hello\n",
      "say_hello finished\n"
     ]
    },
    {
     "data": {
      "text/plain": [
       "'Hello, revathi!'"
      ]
     },
     "execution_count": 20,
     "metadata": {},
     "output_type": "execute_result"
    }
   ],
   "source": [
    "def log_call(func):\n",
    "    def wrapper(*args, **kwargs):\n",
    "        print(f\"Calling {func.__name__}\")\n",
    "        result = func(*args, **kwargs)\n",
    "        print(f\"{func.__name__} finished\")\n",
    "        return result\n",
    "    return wrapper\n",
    "\n",
    "class Greeter:\n",
    "    \n",
    "    @log_call\n",
    "    def say_hello(self, name):\n",
    "        \n",
    "        return (f\"Hello, {name}!\")\n",
    "\n",
    "g = Greeter()\n",
    "g.say_hello(\"revathi\")\n"
   ]
  },
  {
   "cell_type": "code",
   "execution_count": 21,
   "id": "4835c7cb-77a8-4a1d-a102-1d568f6ae19a",
   "metadata": {},
   "outputs": [
    {
     "name": "stdout",
     "output_type": "stream",
     "text": [
      "11\n",
      "This is a static method.\n"
     ]
    }
   ],
   "source": [
    "#static method\n",
    "#It does not access or modify class or instance data.\n",
    "class MyClass:\n",
    "        @staticmethod\n",
    "        def my_static_method(x,y):\n",
    "           print(x+y)\n",
    "           print(\"This is a static method.\")\n",
    "new=MyClass()\n",
    "new.my_static_method(5,6) "
   ]
  },
  {
   "cell_type": "code",
   "execution_count": 22,
   "id": "7197c607-ee47-4e95-b66c-cca5c19ce70e",
   "metadata": {},
   "outputs": [
    {
     "name": "stdout",
     "output_type": "stream",
     "text": [
      "Total Students: 3\n"
     ]
    }
   ],
   "source": [
    "#classmethod\n",
    "#@classmethod is a method that receives the class (cls) as the first argument instead of the instance (self). \n",
    "class Student:\n",
    "    count = 0 \n",
    "\n",
    "    def __init__(self, name):\n",
    "        self.name = name\n",
    "        Student.increment_count()\n",
    "\n",
    "    @classmethod\n",
    "    def increment_count(cls):\n",
    "        cls.count += 1\n",
    "\n",
    "    @classmethod\n",
    "    def get_count(cls):\n",
    "        return cls.count\n",
    "\n",
    "s1 = Student(\"Revathi\")\n",
    "s2 = Student(\"Raji\")\n",
    "s3 = Student(\"Priya\")\n",
    "\n",
    "print(\"Total Students:\", Student.get_count()) \n"
   ]
  },
  {
   "cell_type": "code",
   "execution_count": 5,
   "id": "a35f8122-f9ac-4784-a5be-51673de1cb58",
   "metadata": {},
   "outputs": [
    {
     "name": "stdout",
     "output_type": "stream",
     "text": [
      "Canine\n"
     ]
    }
   ],
   "source": [
    "#abstractmethod\n",
    "#it cannot be instantiated on its own and is designed to be a blueprint for other classes.\n",
    "from abc import ABC, abstractmethod\n",
    "\n",
    "class Animal(ABC):\n",
    "    @abstractmethod\n",
    "    def species(self):\n",
    "        pass\n",
    "\n",
    "class Dog(Animal):\n",
    "    #@property\n",
    "    def species(self):\n",
    "        return \"Canine\"\n",
    "\n",
    "dog = Dog()\n",
    "print(dog.species())"
   ]
  },
  {
   "cell_type": "code",
   "execution_count": 102,
   "id": "91872bb8-8900-4033-aa38-8478cb79befb",
   "metadata": {},
   "outputs": [
    {
     "name": "stdout",
     "output_type": "stream",
     "text": [
      "call fib(10)\n",
      "call fib(9)\n",
      "call fib(8)\n",
      "call fib(7)\n",
      "call fib(6)\n",
      "call fib(5)\n",
      "call fib(4)\n",
      "call fib(3)\n",
      "call fib(2)\n",
      "call fib(1)\n",
      "call fib(0)\n",
      "CacheInfo(hits=8, misses=11, maxsize=23, currsize=11)\n"
     ]
    }
   ],
   "source": [
    "from functools import lru_cache\n",
    "@lru_cache(maxsize=23)\n",
    "def fib(n):\n",
    "    print(f\"call fib({n})\")\n",
    "    if n < 2:\n",
    "        return n\n",
    "    return fib(n-1) + fib(n-2)\n",
    "fib(10)\n",
    "print(fib.cache_info())\n"
   ]
  },
  {
   "cell_type": "code",
   "execution_count": 117,
   "id": "70192a22-3013-4e12-8248-01400ca8057b",
   "metadata": {},
   "outputs": [
    {
     "name": "stdout",
     "output_type": "stream",
     "text": [
      "Trying operation...\n",
      "Attempt 1 failed: Failure\n",
      "Trying operation...\n",
      "Attempt 2 failed: Failure\n",
      "Trying operation...\n",
      "Attempt 3 failed: Failure\n"
     ]
    },
    {
     "ename": "Exception",
     "evalue": "All retries failed",
     "output_type": "error",
     "traceback": [
      "\u001b[31m---------------------------------------------------------------------------\u001b[39m",
      "\u001b[31mException\u001b[39m                                 Traceback (most recent call last)",
      "\u001b[36mCell\u001b[39m\u001b[36m \u001b[39m\u001b[32mIn[117]\u001b[39m\u001b[32m, line 21\u001b[39m\n\u001b[32m     18\u001b[39m     \u001b[38;5;28mprint\u001b[39m(\u001b[33m\"\u001b[39m\u001b[33mTrying operation...\u001b[39m\u001b[33m\"\u001b[39m)\n\u001b[32m     19\u001b[39m     \u001b[38;5;28;01mraise\u001b[39;00m \u001b[38;5;167;01mRuntimeError\u001b[39;00m(\u001b[33m\"\u001b[39m\u001b[33mFailure\u001b[39m\u001b[33m\"\u001b[39m)\n\u001b[32m---> \u001b[39m\u001b[32m21\u001b[39m \u001b[43mfragile_operation\u001b[49m\u001b[43m(\u001b[49m\u001b[43m)\u001b[49m \n",
      "\u001b[36mCell\u001b[39m\u001b[36m \u001b[39m\u001b[32mIn[117]\u001b[39m\u001b[32m, line 12\u001b[39m, in \u001b[36mretry.<locals>.decorator.<locals>.wrapper\u001b[39m\u001b[34m(*args, **kwargs)\u001b[39m\n\u001b[32m     10\u001b[39m         \u001b[38;5;28mprint\u001b[39m(\u001b[33mf\u001b[39m\u001b[33m\"\u001b[39m\u001b[33mAttempt \u001b[39m\u001b[38;5;132;01m{\u001b[39;00mi+\u001b[32m1\u001b[39m\u001b[38;5;132;01m}\u001b[39;00m\u001b[33m failed: \u001b[39m\u001b[38;5;132;01m{\u001b[39;00me\u001b[38;5;132;01m}\u001b[39;00m\u001b[33m\"\u001b[39m)\n\u001b[32m     11\u001b[39m         time.sleep(\u001b[32m1\u001b[39m)\n\u001b[32m---> \u001b[39m\u001b[32m12\u001b[39m \u001b[38;5;28;01mraise\u001b[39;00m \u001b[38;5;167;01mException\u001b[39;00m(\u001b[33m\"\u001b[39m\u001b[33mAll retries failed\u001b[39m\u001b[33m\"\u001b[39m)\n",
      "\u001b[31mException\u001b[39m: All retries failed"
     ]
    }
   ],
   "source": [
    "import time\n",
    "\n",
    "def retry(times):\n",
    "    def decorator(func):\n",
    "        def wrapper(*args, **kwargs):\n",
    "            for i in range(times):\n",
    "                try:\n",
    "                    return func(*args, **kwargs)\n",
    "                except Exception as e:\n",
    "                    print(f\"Attempt {i+1} failed: {e}\")\n",
    "                    time.sleep(1)\n",
    "            raise Exception(\"All retries failed\")\n",
    "        return wrapper\n",
    "    return decorator\n",
    "\n",
    "@retry(3)\n",
    "def fragile_operation():\n",
    "    print(\"Trying operation...\")\n",
    "    raise RuntimeError(\"Failure\")\n",
    "\n",
    "fragile_operation() "
   ]
  },
  {
   "cell_type": "code",
   "execution_count": 7,
   "id": "703005a0-4579-44e9-a025-cea65499335e",
   "metadata": {},
   "outputs": [
    {
     "name": "stdout",
     "output_type": "stream",
     "text": [
      "Revathi\n",
      "admin\n",
      "Account deleted by Revathi\n"
     ]
    },
    {
     "ename": "PermissionError",
     "evalue": "User 'Raji' does not have 'admin' access.",
     "output_type": "error",
     "traceback": [
      "\u001b[31m---------------------------------------------------------------------------\u001b[39m",
      "\u001b[31mPermissionError\u001b[39m                           Traceback (most recent call last)",
      "\u001b[36mCell\u001b[39m\u001b[36m \u001b[39m\u001b[32mIn[7]\u001b[39m\u001b[32m, line 25\u001b[39m\n\u001b[32m     22\u001b[39m User2 = User(\u001b[33m\"\u001b[39m\u001b[33mRaji\u001b[39m\u001b[33m\"\u001b[39m, \u001b[33m\"\u001b[39m\u001b[33mguest\u001b[39m\u001b[33m\"\u001b[39m)\n\u001b[32m     24\u001b[39m delete_account(admin)     \n\u001b[32m---> \u001b[39m\u001b[32m25\u001b[39m \u001b[43mdelete_account\u001b[49m\u001b[43m(\u001b[49m\u001b[43mguest\u001b[49m\u001b[43m)\u001b[49m   \n",
      "\u001b[36mCell\u001b[39m\u001b[36m \u001b[39m\u001b[32mIn[7]\u001b[39m\u001b[32m, line 5\u001b[39m, in \u001b[36mrequire_role.<locals>.decorator.<locals>.wrapper\u001b[39m\u001b[34m(user, *args, **kwargs)\u001b[39m\n\u001b[32m      3\u001b[39m \u001b[38;5;28;01mdef\u001b[39;00m\u001b[38;5;250m \u001b[39m\u001b[34mwrapper\u001b[39m(user, *args, **kwargs):\n\u001b[32m      4\u001b[39m     \u001b[38;5;28;01mif\u001b[39;00m \u001b[38;5;28mgetattr\u001b[39m(user, \u001b[33m'\u001b[39m\u001b[33mrole\u001b[39m\u001b[33m'\u001b[39m, \u001b[38;5;28;01mNone\u001b[39;00m) != role:\n\u001b[32m----> \u001b[39m\u001b[32m5\u001b[39m         \u001b[38;5;28;01mraise\u001b[39;00m \u001b[38;5;167;01mPermissionError\u001b[39;00m(\u001b[33mf\u001b[39m\u001b[33m\"\u001b[39m\u001b[33mUser \u001b[39m\u001b[33m'\u001b[39m\u001b[38;5;132;01m{\u001b[39;00muser.name\u001b[38;5;132;01m}\u001b[39;00m\u001b[33m'\u001b[39m\u001b[33m does not have \u001b[39m\u001b[33m'\u001b[39m\u001b[38;5;132;01m{\u001b[39;00mrole\u001b[38;5;132;01m}\u001b[39;00m\u001b[33m'\u001b[39m\u001b[33m access.\u001b[39m\u001b[33m\"\u001b[39m)\n\u001b[32m      6\u001b[39m     \u001b[38;5;28;01mreturn\u001b[39;00m func(user, *args, **kwargs)\n",
      "\u001b[31mPermissionError\u001b[39m: User 'Raji' does not have 'admin' access."
     ]
    }
   ],
   "source": [
    "def require_role(role):\n",
    "    def decorator(func):\n",
    "        def wrapper(user, *args, **kwargs):\n",
    "            if getattr(user, 'role', None) != role:\n",
    "                raise PermissionError(f\"User '{user.name}' does not have '{role}' access.\")\n",
    "            return func(user, *args, **kwargs)\n",
    "        return wrapper\n",
    "    return decorator\n",
    "\n",
    "class User:\n",
    "    def __init__(self, name, role):\n",
    "        self.name = name\n",
    "        self.role = role\n",
    "\n",
    "@require_role('admin')\n",
    "def delete_account(user):\n",
    "    print(f\"Account deleted by {user.name}\")\n",
    "\n",
    "User1 = User(\"Revathi\", \"admin\")\n",
    "print(User1.name)\n",
    "print(User1.role)\n",
    "User2 = User(\"Raji\", \"guest\")\n",
    "\n",
    "delete_account(User1)     \n",
    "delete_account(User2)   "
   ]
  },
  {
   "cell_type": "code",
   "execution_count": 2,
   "id": "5fc98ffc-57e8-4927-8fb6-b1058be6b015",
   "metadata": {},
   "outputs": [
    {
     "name": "stdout",
     "output_type": "stream",
     "text": [
      "[INFO] Executing say_hello\n",
      "Hello, Revathi!\n"
     ]
    }
   ],
   "source": [
    "#import functools\n",
    "def log_decorator_with_prefix(prefix):\n",
    "    def log_decorator(func):\n",
    "        def wrapper(*args, **kwargs):\n",
    "            print(f\"{prefix} Executing {func.__name__}\")\n",
    "            result = func(*args, **kwargs)\n",
    "            return result\n",
    "\n",
    "        return wrapper\n",
    "    return log_decorator\n",
    "\n",
    "@log_decorator_with_prefix(\"[INFO]\")\n",
    "def say_hello(name):\n",
    "    print(f\"Hello, {name}!\")\n",
    "\n",
    "say_hello(\"Revathi\")\n"
   ]
  },
  {
   "cell_type": "code",
   "execution_count": 27,
   "id": "d52a2206-07c0-4169-ae10-099b539b33ad",
   "metadata": {},
   "outputs": [
    {
     "name": "stdout",
     "output_type": "stream",
     "text": [
      "32\n"
     ]
    }
   ],
   "source": [
    "def square_decorator(func):\n",
    "    def wrapper(*args, **kwargs):\n",
    "        result = func(*args, **kwargs)\n",
    "        return result ** 2\n",
    "\n",
    "    return wrapper\n",
    "\n",
    "def double_decorator(func):\n",
    "    def wrapper(*args, **kwargs):\n",
    "        result = func(*args, **kwargs)\n",
    "        return result * 2\n",
    "\n",
    "    return wrapper\n",
    "\n",
    "@double_decorator\n",
    "@square_decorator\n",
    "def add(a, b):\n",
    "    return a + b\n",
    "\n",
    "result = add(1, 3)\n",
    "print(result)  \n"
   ]
  },
  {
   "cell_type": "code",
   "execution_count": 4,
   "id": "c4f2cdda-ab4c-499c-82d6-af263ad074c7",
   "metadata": {},
   "outputs": [
    {
     "name": "stdout",
     "output_type": "stream",
     "text": [
      "64\n"
     ]
    }
   ],
   "source": [
    "#chaining decorators\n",
    "#applying multiple decorators to same function\n",
    "def decorator1(func): \n",
    "    def inner(): \n",
    "        x = func() \n",
    "        return x * x \n",
    "    return inner \n",
    "\n",
    "def decorator(func):\n",
    "    def inner(): \n",
    "        x = func() \n",
    "        return 2 * x \n",
    "    return inner \n",
    "    \n",
    "@decorator1\n",
    "@decorator\n",
    "def num(): \n",
    "    return 4\n",
    "\n",
    "@decorator\n",
    "@decorator1\n",
    "def num2():\n",
    "    return 2\n",
    "  \n",
    "print(num())"
   ]
  },
  {
   "cell_type": "code",
   "execution_count": 29,
   "id": "fb2b2e32-5927-4fdd-84aa-b3d7d1e8a88c",
   "metadata": {},
   "outputs": [
    {
     "name": "stdout",
     "output_type": "stream",
     "text": [
      "decorator\n",
      "inner function\n",
      "I like books\n",
      "Inside function\n"
     ]
    }
   ],
   "source": [
    "#decorators with params\n",
    "def decorator(like):\n",
    "    print(\"decorator\")\n",
    "    def inner(func):\n",
    "        print(\"inner function\")\n",
    "        print(\"I like\", like) \n",
    "        def wrapper():\n",
    "            func()\n",
    "        return wrapper\n",
    "    return inner\n",
    "\n",
    "@decorator(like=\"books\")\n",
    "def my_func():\n",
    "    print(\"Inside function\")\n",
    "\n",
    "my_func()"
   ]
  },
  {
   "cell_type": "code",
   "execution_count": 6,
   "id": "b291f6b3-44d6-4101-b499-1b5ab416c480",
   "metadata": {},
   "outputs": [
    {
     "name": "stdout",
     "output_type": "stream",
     "text": [
      "0\n",
      "33\n",
      "44\n"
     ]
    }
   ],
   "source": [
    "#Getters and Setter methods\n",
    "class Celsius:\n",
    "    def __init__(self, temperature=0):\n",
    "        self._temperature=temperature\n",
    "\n",
    "    def to_fahrenheit(self):\n",
    "        return (self.get_temperature() * 1.8) + 32\n",
    "\n",
    "    # getter method\n",
    "    def get_temperature(self):\n",
    "        return self._temperature\n",
    "\n",
    "    # setter method\n",
    "    def set_temperature(self, value):\n",
    "        if value < -273.15:\n",
    "            raise ValueError(\"Temperature below -273.15 is not possible.\")\n",
    "        self._temperature = value\n",
    "        \n",
    "    temperature=property(get_temperature,set_temperature)\n",
    "\n",
    "temp = Celsius()\n",
    "print(temp.get_temperature())\n",
    "temp.set_temperature(33)\n",
    "print(temp.get_temperature())\n",
    "temp.temperature = 44\n",
    "print(temp.temperature)\n",
    "\n"
   ]
  },
  {
   "cell_type": "code",
   "execution_count": 23,
   "id": "c0b8cb87-6c75-4143-b02b-9c931ee78c8d",
   "metadata": {},
   "outputs": [
    {
     "name": "stdout",
     "output_type": "stream",
     "text": [
      "Setting value...\n",
      "-106.6\n"
     ]
    }
   ],
   "source": [
    "class Celsius:\n",
    "    def __init__(self, temperature=0):\n",
    "        self.__temperature = temperature\n",
    "\n",
    "    def to_fahrenheit(self):\n",
    "        return (self.__temperature * 1.8) + 32\n",
    "\n",
    "    @property\n",
    "    def temperature(self):\n",
    "        print(\"Getting value...\")\n",
    "        return self.__temperature\n",
    "\n",
    "    @temperature.setter\n",
    "    def temperature(self, value):\n",
    "        print(\"Setting value...\")\n",
    "        if value < -273.15:\n",
    "            raise ValueError(\"Temperature below -271.15°C not possible\")\n",
    "        self.__temperature = value\n",
    "\n",
    "\n",
    "human = Celsius()\n",
    "human.temperature = -77\n",
    "print(human.to_fahrenheit())"
   ]
  },
  {
   "cell_type": "code",
   "execution_count": null,
   "id": "1836cf5a-a128-4425-b199-46aaac692d57",
   "metadata": {},
   "outputs": [],
   "source": []
  }
 ],
 "metadata": {
  "kernelspec": {
   "display_name": "Python 3 (ipykernel)",
   "language": "python",
   "name": "python3"
  },
  "language_info": {
   "codemirror_mode": {
    "name": "ipython",
    "version": 3
   },
   "file_extension": ".py",
   "mimetype": "text/x-python",
   "name": "python",
   "nbconvert_exporter": "python",
   "pygments_lexer": "ipython3",
   "version": "3.11.9"
  }
 },
 "nbformat": 4,
 "nbformat_minor": 5
}
