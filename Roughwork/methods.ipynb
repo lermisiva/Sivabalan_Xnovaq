{
 "cells": [
  {
   "cell_type": "markdown",
   "id": "c18df7e6-eda0-4c35-ab1e-0208f5571e4a",
   "metadata": {},
   "source": [
    "# variables"
   ]
  },
  {
   "cell_type": "code",
   "execution_count": 11,
   "id": "c943784b-a78d-4dd7-9162-55815e4e76da",
   "metadata": {},
   "outputs": [
    {
     "name": "stdin",
     "output_type": "stream",
     "text": [
      "Enter your num: 2\n"
     ]
    }
   ],
   "source": [
    "num = int(input(\"Enter your num:\"))\n"
   ]
  },
  {
   "cell_type": "markdown",
   "id": "662538ee-f468-48b2-acb0-f95ef58f6bff",
   "metadata": {},
   "source": [
    "# Nested for"
   ]
  },
  {
   "cell_type": "code",
   "execution_count": 52,
   "id": "a6b06cbc-0af6-4619-93b1-5c67959d17c8",
   "metadata": {},
   "outputs": [
    {
     "name": "stdout",
     "output_type": "stream",
     "text": [
      "2 /\n",
      "3 /\n",
      "4 /\n",
      ",\n",
      "3 /\n",
      "4 /\n",
      "5 /\n",
      ",\n",
      "4 /\n",
      "5 /\n",
      "6 /\n",
      ",\n"
     ]
    }
   ],
   "source": [
    "# nested for loop\n",
    "for i in range(1,4):\n",
    "     for j in range(1,4):\n",
    "         # for k in range(1,4):\n",
    "         # print(j)\n",
    "             print(i+j, end=\" \")\n",
    "        # create matri\n",
    "             print(\"/\")\n",
    "     print(\",\")\n",
    "    \n",
    "    \n",
    "         "
   ]
  },
  {
   "cell_type": "markdown",
   "id": "2d10363d-d1d5-47ac-985f-079394b0b2bb",
   "metadata": {},
   "source": [
    "# Nested while"
   ]
  },
  {
   "cell_type": "code",
   "execution_count": 10,
   "id": "2615dc47-a946-436d-9291-b97453378f69",
   "metadata": {},
   "outputs": [
    {
     "name": "stdout",
     "output_type": "stream",
     "text": [
      "( 0 1 ) ( 0 2 ) ( 0 3 ) \n",
      "( 1 1 ) ( 1 2 ) ( 1 3 ) \n",
      "( 2 1 ) ( 2 2 ) ( 2 3 ) \n",
      "( 3 1 ) ( 3 2 ) ( 3 3 ) \n"
     ]
    }
   ],
   "source": [
    "# nested while\n",
    "i = 0\n",
    "while i<4:\n",
    "    j = 1\n",
    "    while j <4:\n",
    "        print(\"(\",i,j,\")\", end=\" \")\n",
    "        j+=1\n",
    "    i+=1\n",
    "    print(\"\")"
   ]
  },
  {
   "cell_type": "markdown",
   "id": "9c0fd047-f690-4812-9f0b-76084f84e976",
   "metadata": {},
   "source": [
    "# f string"
   ]
  },
  {
   "cell_type": "code",
   "execution_count": 1,
   "id": "ff40f2a5-1b86-45ab-b077-8f06fe6535b0",
   "metadata": {},
   "outputs": [
    {
     "name": "stdout",
     "output_type": "stream",
     "text": [
      "the percentage of 45 is4500.000000%\n"
     ]
    }
   ],
   "source": [
    "# f string\n",
    "print(\"the percentage of 45 is{price:%}\".format(price=45))"
   ]
  },
  {
   "cell_type": "markdown",
   "id": "64e410c9-d40d-49d4-9433-d351bbd869a1",
   "metadata": {},
   "source": [
    "# Data Types"
   ]
  },
  {
   "cell_type": "code",
   "execution_count": 3,
   "id": "03337e80-6544-4b6a-ad6c-614f1e319f5e",
   "metadata": {},
   "outputs": [
    {
     "name": "stdout",
     "output_type": "stream",
     "text": [
      "[3, 2, 1, 9, 7]\n",
      "[3, 2, 1, 9, 7, 9, 7]\n",
      "<class 'tuple'>\n",
      "{3, 5}\n"
     ]
    }
   ],
   "source": [
    "# datatypes\n",
    "# list\n",
    "l = [3,2,1]\n",
    "l1=[9,7]\n",
    "l.extend(l1)\n",
    "print(l)\n",
    "p = l+l1\n",
    "print(p)\n",
    "# tuple\n",
    "k =(2,3)\n",
    "l3=(5,3)\n",
    "print(type(l3))\n",
    "l4 = set(l3)\n",
    "print(l4)"
   ]
  },
  {
   "cell_type": "markdown",
   "id": "860b14fc-300f-4f2d-a3a5-43c2394c2282",
   "metadata": {},
   "source": [
    "# Slicing"
   ]
  },
  {
   "cell_type": "code",
   "execution_count": 24,
   "id": "2651d257-73ff-4a96-8c5f-f312da414f88",
   "metadata": {},
   "outputs": [
    {
     "name": "stdout",
     "output_type": "stream",
     "text": [
      "\n"
     ]
    }
   ],
   "source": [
    "# slicing in list  like range start stop step\n",
    "name = \"Hello00\"\n",
    "# print(name[::-1])\n",
    "print(name[2:5:-1])\n",
    "# print(name[::-2])\n"
   ]
  },
  {
   "cell_type": "code",
   "execution_count": null,
   "id": "68fcda62-5d58-4e19-8083-77b8f52f2954",
   "metadata": {},
   "outputs": [],
   "source": []
  }
 ],
 "metadata": {
  "kernelspec": {
   "display_name": "Python 3 (ipykernel)",
   "language": "python",
   "name": "python3"
  },
  "language_info": {
   "codemirror_mode": {
    "name": "ipython",
    "version": 3
   },
   "file_extension": ".py",
   "mimetype": "text/x-python",
   "name": "python",
   "nbconvert_exporter": "python",
   "pygments_lexer": "ipython3",
   "version": "3.11.9"
  }
 },
 "nbformat": 4,
 "nbformat_minor": 5
}
