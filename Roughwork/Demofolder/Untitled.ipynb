{
 "cells": [
  {
   "cell_type": "code",
   "execution_count": 3,
   "id": "9d1b22d2-2295-42ba-9ea1-b2332d8c1c2f",
   "metadata": {},
   "outputs": [
    {
     "name": "stdin",
     "output_type": "stream",
     "text": [
      "Enter your word: aeroplane\n"
     ]
    },
    {
     "name": "stdout",
     "output_type": "stream",
     "text": [
      "a\n",
      "e\n",
      "o\n"
     ]
    }
   ],
   "source": [
    "user = input(\"Enter your word:\")\n",
    "vowels = \"aeiou\"\n",
    "user.lower()\n",
    "v = {}\n",
    "for i in user:\n",
    "    if i in vowels:\n",
    "        if i in v:\n",
    "            v[i] +=1\n",
    "            \n",
    "        else:\n",
    "            v[i] = 1\n",
    "            \n",
    "print(i)"
   ]
  },
  {
   "cell_type": "code",
   "execution_count": null,
   "id": "77c1812d-2f11-4434-a7c5-da95ad224301",
   "metadata": {},
   "outputs": [],
   "source": []
  }
 ],
 "metadata": {
  "kernelspec": {
   "display_name": "Python 3 (ipykernel)",
   "language": "python",
   "name": "python3"
  },
  "language_info": {
   "codemirror_mode": {
    "name": "ipython",
    "version": 3
   },
   "file_extension": ".py",
   "mimetype": "text/x-python",
   "name": "python",
   "nbconvert_exporter": "python",
   "pygments_lexer": "ipython3",
   "version": "3.11.9"
  }
 },
 "nbformat": 4,
 "nbformat_minor": 5
}
