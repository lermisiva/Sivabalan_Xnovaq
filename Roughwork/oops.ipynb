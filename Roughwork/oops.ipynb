{
 "cells": [
  {
   "cell_type": "code",
   "execution_count": 7,
   "id": "4271d2f1-9433-448e-a801-52198657a76a",
   "metadata": {},
   "outputs": [
    {
     "name": "stdout",
     "output_type": "stream",
     "text": [
      "hello\n",
      "hello\n"
     ]
    }
   ],
   "source": [
    "def sum():\n",
    "    action = 'hello'\n",
    "    print(action)\n",
    "    return action\n",
    "a =sum()\n",
    "print(a)"
   ]
  },
  {
   "cell_type": "code",
   "execution_count": 2,
   "id": "6cc3429a-3f37-470d-9b99-3d3952b73961",
   "metadata": {},
   "outputs": [
    {
     "data": {
      "text/plain": [
       "7"
      ]
     },
     "execution_count": 2,
     "metadata": {},
     "output_type": "execute_result"
    }
   ],
   "source": [
    "def sum(a,b): # ab is parameters\n",
    "    action = 'hello'\n",
    "    c =a + b\n",
    "    return c\n",
    "sum(3,4)#value is arguments"
   ]
  },
  {
   "cell_type": "code",
   "execution_count": 88,
   "id": "cf634fe7-4a5f-481d-9444-f6b539553305",
   "metadata": {},
   "outputs": [
    {
     "name": "stdout",
     "output_type": "stream",
     "text": [
      "{'name': 'Emily', 'age': 30, 'city': 'New York'}\n",
      "{'product': 'Laptop', 'price': 1200, 'brand': 'TechCo'}\n"
     ]
    }
   ],
   "source": [
    "# key word arg => ** argname => dict accses\n",
    "# non key word arg => * argname = > list tuple accses => default save as a tuple\n",
    "def show_details(**kwargs):\n",
    "    # for key, value in kwargs.items():\n",
    "        print(dict(kwargs))\n",
    "\n",
    "show_details(name=\"Emily\", age=30, city=\"New York\")\n",
    "show_details(product=\"Laptop\", price=1200, brand=\"TechCo\")"
   ]
  },
  {
   "cell_type": "code",
   "execution_count": null,
   "id": "1a239824-564c-460a-a8a1-e708bc00b01f",
   "metadata": {},
   "outputs": [],
   "source": []
  },
  {
   "cell_type": "code",
   "execution_count": 3,
   "id": "8e90eecb-b013-4c86-9c5b-587f86f668d0",
   "metadata": {},
   "outputs": [
    {
     "name": "stdout",
     "output_type": "stream",
     "text": [
      "present 11\n",
      "absent 1\n"
     ]
    }
   ],
   "source": [
    "# non key word arguments\n",
    "lis_ate = [11,1]\n",
    "def lis (*a):\n",
    "    print(\"present\",a[0][0])\n",
    "    print(\"absent\",a[0][1])\n",
    "\n",
    "lis(lis_ate)    \n"
   ]
  },
  {
   "cell_type": "code",
   "execution_count": 1,
   "id": "788262f2-517c-44a8-9e92-5fed1d898665",
   "metadata": {},
   "outputs": [],
   "source": [
    "# key word argumnets`\n",
    "dict1 = {\"present\":11,\"absent\":1}\n",
    "\n",
    "# def "
   ]
  },
  {
   "cell_type": "markdown",
   "id": "2f5f088d-2d83-411f-bbf1-8cb7a035dc59",
   "metadata": {},
   "source": [
    "# class"
   ]
  },
  {
   "cell_type": "code",
   "execution_count": 2,
   "id": "6b3d04f8-2502-472d-acee-3ce116c79b9b",
   "metadata": {},
   "outputs": [
    {
     "name": "stdout",
     "output_type": "stream",
     "text": [
      "hi buddy\n"
     ]
    }
   ],
   "source": [
    "class dog:# class name dog`\n",
    "    def bark(self):# self is based on the class outer class self is not worked is also called contructor\n",
    "        print(\"hi buddy\")\n",
    "dog1 = dog()#create object\n",
    "dog1.bark()# access point of class method object "
   ]
  },
  {
   "cell_type": "code",
   "execution_count": 4,
   "id": "3dd58ca2-bb1f-47e0-92fc-235da2cedb8a",
   "metadata": {},
   "outputs": [
    {
     "name": "stdin",
     "output_type": "stream",
     "text": [
      "Enter your name 6\n",
      "Enter your age 7\n"
     ]
    }
   ],
   "source": [
    "# default constructor in  class  __init__ means initialization\n",
    "class emp:\n",
    "    \n",
    "    def __init__(self):\n",
    "        name = input(\"Enter your name\")\n",
    "        age = int(input(\"Enter your age\"))\n",
    "        self.name = name\n",
    "        self.age = age\n",
    "        \n",
    "e1 = emp()\n",
    "# del e1.age\n",
    "# print(f\"Name:{e1.name}, age {e1.age} name  {e1.name}\")"
   ]
  },
  {
   "cell_type": "markdown",
   "id": "d6afe839-9635-459d-9f78-35dea2094e9b",
   "metadata": {},
   "source": [
    "# Encapsulation"
   ]
  },
  {
   "cell_type": "code",
   "execution_count": 3,
   "id": "a4fdf61f-fa8c-4d6a-bd2b-ec07d241d8cc",
   "metadata": {},
   "outputs": [],
   "source": [
    "# self.name  => public - variable editable, changable, deletable\n",
    "# self._name  => protected -  variable editable,changeable, deletable\n",
    "# self.__name => private variable dont have access for outside the class\n"
   ]
  },
  {
   "cell_type": "code",
   "execution_count": 12,
   "id": "57a51f37-06b4-46bd-9a07-75a95574f2c8",
   "metadata": {},
   "outputs": [
    {
     "name": "stdout",
     "output_type": "stream",
     "text": [
      "None\n",
      "Siva\n"
     ]
    }
   ],
   "source": [
    "class Employee:\n",
    "    def __init__(self,name):\n",
    "        self.__name = name\n",
    "    def get_name(self):\n",
    "        return self.__name\n",
    "    def set_name(self,name):\n",
    "        self.__name = name\n",
    "e1 = Employee(\"ss\")\n",
    "# print(e1.get_name())\n",
    "e1.set_name(\"Siva\")\n",
    "print(e1.get_name())"
   ]
  },
  {
   "cell_type": "code",
   "execution_count": 16,
   "id": "028469ca-89c1-442d-b3dc-23db27469eab",
   "metadata": {},
   "outputs": [
    {
     "ename": "NameError",
     "evalue": "name 'get_name' is not defined",
     "output_type": "error",
     "traceback": [
      "\u001b[31m---------------------------------------------------------------------------\u001b[39m",
      "\u001b[31mNameError\u001b[39m                                 Traceback (most recent call last)",
      "\u001b[36mCell\u001b[39m\u001b[36m \u001b[39m\u001b[32mIn[16]\u001b[39m\u001b[32m, line 10\u001b[39m\n\u001b[32m      7\u001b[39m         \u001b[38;5;28mself\u001b[39m._name = name\n\u001b[32m      8\u001b[39m e = Employee(\u001b[33m\"\u001b[39m\u001b[33mname\u001b[39m\u001b[33m\"\u001b[39m)\n\u001b[32m---> \u001b[39m\u001b[32m10\u001b[39m name = \u001b[38;5;28mproperty\u001b[39m(\u001b[43mget_name\u001b[49m, set_name,\u001b[33m\"\u001b[39m\u001b[33mthe name\u001b[39m\u001b[33m\"\u001b[39m)\n\u001b[32m     11\u001b[39m \u001b[38;5;28mprint\u001b[39m(e.name)   \n\u001b[32m     12\u001b[39m \u001b[38;5;66;03m#from out side callback  for private vaariable\u001b[39;00m\n\u001b[32m     13\u001b[39m \u001b[38;5;66;03m# __repr__ just call the function run  \u001b[39;00m\n\u001b[32m     14\u001b[39m \u001b[38;5;66;03m# __str__  print the function\u001b[39;00m\n",
      "\u001b[31mNameError\u001b[39m: name 'get_name' is not defined"
     ]
    }
   ],
   "source": [
    "class Employee:\n",
    "    def __init__(self,name):\n",
    "        self.__name = name\n",
    "    def get_name(self):\n",
    "        return self.__name\n",
    "    def set_name(self):\n",
    "        self._name = name\n",
    "e = Employee(\"name\")\n",
    "\n",
    "name = property(get_name, set_name,\"the name\")\n",
    "print(e.name)   \n",
    "#from out side callback  for private vaariable\n",
    "# __repr__ just call the function run  \n",
    "# __str__  print the function"
   ]
  },
  {
   "cell_type": "code",
   "execution_count": 10,
   "id": "aa26ab32-d234-449f-9ef3-0a6ed1e2f7a0",
   "metadata": {},
   "outputs": [],
   "source": [
    "# call method task like __repr__"
   ]
  },
  {
   "cell_type": "markdown",
   "id": "ef3f3d26-bc74-4d93-b34b-13e006dc0778",
   "metadata": {},
   "source": [
    "# Polymorphism"
   ]
  },
  {
   "cell_type": "code",
   "execution_count": 11,
   "id": "73110ec9-030b-4ea5-802c-674e77d17c56",
   "metadata": {},
   "outputs": [],
   "source": [
    "# method overloading => doesnot work in default python\n",
    "# method overriding inheritance => overridding means child class overwrite by parant class\n"
   ]
  },
  {
   "cell_type": "markdown",
   "id": "5f814d95-2ea8-4bcd-99f4-2e25ae43cb00",
   "metadata": {},
   "source": [
    "# method overloading"
   ]
  },
  {
   "cell_type": "code",
   "execution_count": 35,
   "id": "f52dfde1-bc85-4c57-9acf-06f7a03e88cd",
   "metadata": {},
   "outputs": [
    {
     "name": "stdout",
     "output_type": "stream",
     "text": [
      "sum 0.16666666666666666\n"
     ]
    }
   ],
   "source": [
    "# over loading divisible by 3 and 2 \n",
    "def div(a,b):\n",
    "# def div(a,b,c):\n",
    "    print(\"sum\",a/b)\n",
    "    # print(\"sum\",a/b/c)\n",
    "def div(a,b,c):\n",
    "# def div(a,b):\n",
    "   print(\"sum\",a/b/c)\n",
    "   # print(\"sum\",a/b)\n",
    "div(2,4,3)"
   ]
  },
  {
   "cell_type": "markdown",
   "id": "e3a5fe5c-cf46-4f21-ab16-c0bc6be8c83b",
   "metadata": {},
   "source": [
    "# method overriding"
   ]
  },
  {
   "cell_type": "code",
   "execution_count": 63,
   "id": "d3bb9edc-46b8-4d99-b738-ffc8479e80e3",
   "metadata": {},
   "outputs": [
    {
     "name": "stdout",
     "output_type": "stream",
     "text": [
      "books\n",
      "copied\n"
     ]
    }
   ],
   "source": [
    "class Book:\n",
    "    def books():\n",
    "        print(\"books\")\n",
    "class Note(Book):\n",
    "    def note():\n",
    "        print(\"copied\")\n",
    "    \n",
    "d = Note.books()\n",
    "n = Note.note()"
   ]
  },
  {
   "cell_type": "markdown",
   "id": "431e72ef-b64d-4077-9bcb-407404919bc8",
   "metadata": {},
   "source": [
    "# Inheritence"
   ]
  },
  {
   "cell_type": "code",
   "execution_count": null,
   "id": "1f11f32b-e49d-4511-971b-b1cad2da1d04",
   "metadata": {},
   "outputs": [],
   "source": [
    "# super method()"
   ]
  },
  {
   "cell_type": "markdown",
   "id": "3805eccd-9568-43fb-843e-0a0c38c02c01",
   "metadata": {},
   "source": [
    "# Types of Inheritence"
   ]
  },
  {
   "cell_type": "code",
   "execution_count": null,
   "id": "91cb60d6-1678-4756-b2ce-a9cb3120ebb1",
   "metadata": {},
   "outputs": [],
   "source": [
    "# 1 . Single Inheritence => sigle base class to single child class  like a--> b\n",
    "# 2 . Multiple Inheritence => A B C base class to single child class like d\n",
    "# 3 . Multilevel Inheritence => A->B->C a to b to c\n",
    "# 4 . Hierachical Inheritence => A class to B C D class\n",
    "# 5 . Hybrid Inheri`atence => A to b and a to c and c to d and b to d like multiple and multilevel worked in same time .\n",
    "# (__mro__) using to verify "
   ]
  },
  {
   "cell_type": "markdown",
   "id": "0cf07abe-d662-461a-a830-fab913e05ed6",
   "metadata": {},
   "source": [
    "# 1 . Single Inheritence"
   ]
  },
  {
   "cell_type": "code",
   "execution_count": null,
   "id": "fa585b14-5e52-40b0-8bf2-577b80d8a092",
   "metadata": {},
   "outputs": [],
   "source": []
  },
  {
   "cell_type": "code",
   "execution_count": null,
   "id": "1630d0fd-822f-4561-9b6f-8635a76d81b6",
   "metadata": {},
   "outputs": [],
   "source": []
  }
 ],
 "metadata": {
  "kernelspec": {
   "display_name": "Python 3 (ipykernel)",
   "language": "python",
   "name": "python3"
  },
  "language_info": {
   "codemirror_mode": {
    "name": "ipython",
    "version": 3
   },
   "file_extension": ".py",
   "mimetype": "text/x-python",
   "name": "python",
   "nbconvert_exporter": "python",
   "pygments_lexer": "ipython3",
   "version": "3.11.9"
  }
 },
 "nbformat": 4,
 "nbformat_minor": 5
}
