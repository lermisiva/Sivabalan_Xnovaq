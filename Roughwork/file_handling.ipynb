{
 "cells": [
  {
   "cell_type": "code",
   "execution_count": 30,
   "id": "72594ee1-dec5-4fff-aaa6-8b2573323cf9",
   "metadata": {},
   "outputs": [
    {
     "name": "stdout",
     "output_type": "stream",
     "text": [
      "Filename: new.txt\n",
      "Mode: w\n",
      "closed? False\n",
      "closed? True\n"
     ]
    }
   ],
   "source": [
    "#File handling\n",
    "#process of performing operations on a file, such as creating, opening, reading, writing and closing it through a programming interface\n",
    "#r - read mode\n",
    "file = open(\"new.txt\", \"w\")\n",
    "file.write(\"hi!!\\n\")\n",
    "file.write(\"\\nhello\")\n",
    "file.write(\"\\nhow are you\")\n",
    "\n",
    "print(\"Filename:\", file.name)\n",
    "print(\"Mode:\", file.mode)\n",
    "print(\"closed?\",file.closed)\n",
    "file.close()\n",
    "print(\"closed?\",file.closed)\n",
    "# print(\"Is Closed?\", file.closed)"
   ]
  },
  {
   "cell_type": "code",
   "execution_count": 35,
   "id": "bdff7b5d-d8b9-426d-89a8-1918d122754d",
   "metadata": {},
   "outputs": [
    {
     "name": "stdout",
     "output_type": "stream",
     "text": [
      "hello\n",
      "\n"
     ]
    }
   ],
   "source": [
    "file = open(\"new.txt\", \"r\")\n",
    "content = file.readline()\n",
    "content1 = file.readline()\n",
    "content2 = file.readline()\n",
    "print(content2)\n",
    "file.close()"
   ]
  },
  {
   "cell_type": "code",
   "execution_count": 36,
   "id": "8177f757-c8c8-4f8b-acd0-41af7dc8fdbd",
   "metadata": {},
   "outputs": [
    {
     "name": "stdout",
     "output_type": "stream",
     "text": [
      "['hi!!\\n', '\\n', 'hello\\n', 'how are you']\n",
      "hi!!\n",
      "\n",
      "\n",
      "\n",
      "hello\n",
      "\n",
      "how are you\n"
     ]
    }
   ],
   "source": [
    "with open(\"new.txt\", \"r\") as f:\n",
    "    content = f.readlines()\n",
    "    print(content)\n",
    "    for i in content:\n",
    "        print(i)\n"
   ]
  },
  {
   "cell_type": "code",
   "execution_count": 37,
   "id": "e22bf07f-ffd5-4d21-a953-5c0b8961e8ea",
   "metadata": {},
   "outputs": [],
   "source": [
    "with open(\"my_file.txt\", \"w\") as f:\n",
    "    f.write(\"Hello, Python!\\n\")\n",
    "    f.write(\"This is a new line.\\n\")\n",
    "\n",
    "with open(\"my_file.txt\", \"a\") as f:\n",
    "    f.write(\"Appending more data.\\n\")"
   ]
  },
  {
   "cell_type": "code",
   "execution_count": 31,
   "id": "b2956594-e45b-444e-b3c4-bd808ddf0579",
   "metadata": {},
   "outputs": [],
   "source": [
    "#w -create & write mode\n",
    "with open(\"new_file.txt\", \"w\") as f:\n",
    "    f.write(\"hello!\")\n"
   ]
  },
  {
   "cell_type": "code",
   "execution_count": 40,
   "id": "ce79e03f-f83c-47ba-a669-362970e3fc1c",
   "metadata": {},
   "outputs": [],
   "source": [
    "#a - create & append mode\n",
    "new =[\"hi\",\"hello\",\"how\"]\n",
    "with open(\"new_file1.txt\", \"w\") as f:\n",
    "    f.writelines(new)\n"
   ]
  },
  {
   "cell_type": "code",
   "execution_count": 53,
   "id": "c57cd190-6a6b-4802-81b9-ef7dd6e24a9b",
   "metadata": {},
   "outputs": [
    {
     "name": "stdout",
     "output_type": "stream",
     "text": [
      "ontent\n",
      "\n"
     ]
    }
   ],
   "source": [
    "#r+ - not create file, read and write(append)\n",
    "with open('new.txt', 'r+') as file:\n",
    "    content = file.read()\n",
    "    # print(content)\n",
    "    file.write('\\nAppending new content')\n",
    "    file.seek(17)\n",
    "    content = file.readline()\n",
    "\n",
    "    print(content)"
   ]
  },
  {
   "cell_type": "code",
   "execution_count": 56,
   "id": "bc6ce795-527d-4d4d-ad0a-85777abf2f3b",
   "metadata": {},
   "outputs": [
    {
     "name": "stdout",
     "output_type": "stream",
     "text": [
      "This will be overwrite@\n"
     ]
    }
   ],
   "source": [
    "#w+ - create file,overwrite,read\n",
    "with open('example.txt', 'w+') as file:\n",
    "    file.write('This will be overwrite@')\n",
    "    file.seek(0) \n",
    "    content = file.read()\n",
    "    print(content)"
   ]
  },
  {
   "cell_type": "code",
   "execution_count": 60,
   "id": "72924ab0-8d33-4300-932b-37b394532ad7",
   "metadata": {},
   "outputs": [
    {
     "name": "stdout",
     "output_type": "stream",
     "text": [
      "This will be appendThis will be appendThis will be append\n",
      "This will be append\n",
      "\n"
     ]
    }
   ],
   "source": [
    "#a+ - create file,append,read\n",
    "with open('example2.txt', 'a+') as file:\n",
    "    file.write('This will be append\\n')\n",
    "    file.seek(0) \n",
    "    content = file.read()\n",
    "    print(content)"
   ]
  },
  {
   "cell_type": "code",
   "execution_count": 61,
   "id": "e1e169c5-1843-47fd-8743-21e81143ae49",
   "metadata": {},
   "outputs": [],
   "source": [
    "#rb - read byte\n",
    "#Open a file in write binary mode\n",
    "with open(\"binary_data.txt\", \"wb\") as file:\n",
    "    file.write(b\"Hello, binary world!\")\n",
    "    file.write(bytes([0x01, 0x02, 0x03]))"
   ]
  },
  {
   "cell_type": "code",
   "execution_count": 62,
   "id": "10b312bd-5d63-4224-b255-f45b8667e13b",
   "metadata": {},
   "outputs": [
    {
     "name": "stdout",
     "output_type": "stream",
     "text": [
      "b'Hello, binary world!\\x01\\x02\\x03'\n"
     ]
    }
   ],
   "source": [
    "with open(\"binary_data.txt\", \"rb\") as file:\n",
    "    file1=file.readline()\n",
    "    print(file1)"
   ]
  },
  {
   "cell_type": "code",
   "execution_count": 65,
   "id": "99b78a34-e7be-4844-b8f7-6b5c47e73733",
   "metadata": {},
   "outputs": [
    {
     "ename": "FileExistsError",
     "evalue": "[Errno 17] File exists: 'new_file4.txt'",
     "output_type": "error",
     "traceback": [
      "\u001b[31m---------------------------------------------------------------------------\u001b[39m",
      "\u001b[31mFileExistsError\u001b[39m                           Traceback (most recent call last)",
      "\u001b[36mCell\u001b[39m\u001b[36m \u001b[39m\u001b[32mIn[65]\u001b[39m\u001b[32m, line 2\u001b[39m\n\u001b[32m      1\u001b[39m \u001b[38;5;66;03m#x - work with new file\u001b[39;00m\n\u001b[32m----> \u001b[39m\u001b[32m2\u001b[39m \u001b[38;5;28;01mwith\u001b[39;00m \u001b[38;5;28;43mopen\u001b[39;49m\u001b[43m(\u001b[49m\u001b[33;43m\"\u001b[39;49m\u001b[33;43mnew_file4.txt\u001b[39;49m\u001b[33;43m\"\u001b[39;49m\u001b[43m,\u001b[49m\u001b[43m \u001b[49m\u001b[33;43m\"\u001b[39;49m\u001b[33;43mx\u001b[39;49m\u001b[33;43m\"\u001b[39;49m\u001b[43m)\u001b[49m \u001b[38;5;28;01mas\u001b[39;00m f:\n\u001b[32m      3\u001b[39m     f.write(\u001b[33m\"\u001b[39m\u001b[33mthis is a new file.\u001b[39m\u001b[33m\"\u001b[39m)\n\u001b[32m      4\u001b[39m     f.write(\u001b[33m\"\u001b[39m\u001b[33mthis is text file\u001b[39m\u001b[33m\"\u001b[39m)\n",
      "\u001b[36mFile \u001b[39m\u001b[32m~\\Documents\\myenv\\Lib\\site-packages\\IPython\\core\\interactiveshell.py:343\u001b[39m, in \u001b[36m_modified_open\u001b[39m\u001b[34m(file, *args, **kwargs)\u001b[39m\n\u001b[32m    336\u001b[39m \u001b[38;5;28;01mif\u001b[39;00m file \u001b[38;5;129;01min\u001b[39;00m {\u001b[32m0\u001b[39m, \u001b[32m1\u001b[39m, \u001b[32m2\u001b[39m}:\n\u001b[32m    337\u001b[39m     \u001b[38;5;28;01mraise\u001b[39;00m \u001b[38;5;167;01mValueError\u001b[39;00m(\n\u001b[32m    338\u001b[39m         \u001b[33mf\u001b[39m\u001b[33m\"\u001b[39m\u001b[33mIPython won\u001b[39m\u001b[33m'\u001b[39m\u001b[33mt let you open fd=\u001b[39m\u001b[38;5;132;01m{\u001b[39;00mfile\u001b[38;5;132;01m}\u001b[39;00m\u001b[33m by default \u001b[39m\u001b[33m\"\u001b[39m\n\u001b[32m    339\u001b[39m         \u001b[33m\"\u001b[39m\u001b[33mas it is likely to crash IPython. If you know what you are doing, \u001b[39m\u001b[33m\"\u001b[39m\n\u001b[32m    340\u001b[39m         \u001b[33m\"\u001b[39m\u001b[33myou can use builtins\u001b[39m\u001b[33m'\u001b[39m\u001b[33m open.\u001b[39m\u001b[33m\"\u001b[39m\n\u001b[32m    341\u001b[39m     )\n\u001b[32m--> \u001b[39m\u001b[32m343\u001b[39m \u001b[38;5;28;01mreturn\u001b[39;00m \u001b[43mio_open\u001b[49m\u001b[43m(\u001b[49m\u001b[43mfile\u001b[49m\u001b[43m,\u001b[49m\u001b[43m \u001b[49m\u001b[43m*\u001b[49m\u001b[43margs\u001b[49m\u001b[43m,\u001b[49m\u001b[43m \u001b[49m\u001b[43m*\u001b[49m\u001b[43m*\u001b[49m\u001b[43mkwargs\u001b[49m\u001b[43m)\u001b[49m\n",
      "\u001b[31mFileExistsError\u001b[39m: [Errno 17] File exists: 'new_file4.txt'"
     ]
    }
   ],
   "source": [
    "#x - work with new file\n",
    "with open(\"new_file4.txt\", \"x\") as f:\n",
    "    f.write(\"this is a new file.\")\n",
    "    f.write(\"this is text file\")\n",
    "    print(\"File 'new_file3.txt' created successfully.\")\n"
   ]
  },
  {
   "cell_type": "code",
   "execution_count": null,
   "id": "b90b873f-1faf-4e46-b094-319ea8dd19a5",
   "metadata": {},
   "outputs": [],
   "source": []
  }
 ],
 "metadata": {
  "kernelspec": {
   "display_name": "Python 3 (ipykernel)",
   "language": "python",
   "name": "python3"
  },
  "language_info": {
   "codemirror_mode": {
    "name": "ipython",
    "version": 3
   },
   "file_extension": ".py",
   "mimetype": "text/x-python",
   "name": "python",
   "nbconvert_exporter": "python",
   "pygments_lexer": "ipython3",
   "version": "3.11.9"
  }
 },
 "nbformat": 4,
 "nbformat_minor": 5
}
