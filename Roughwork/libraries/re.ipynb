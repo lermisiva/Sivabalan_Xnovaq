{
 "cells": [
  {
   "cell_type": "markdown",
   "id": "d0198ec3-2c47-4dbf-b976-2ad7896ee5d4",
   "metadata": {},
   "source": [
    "# re means regular expression"
   ]
  },
  {
   "cell_type": "code",
   "execution_count": 5,
   "id": "06b476df-355a-4f77-b095-204d6cbeefb8",
   "metadata": {},
   "outputs": [
    {
     "name": "stdout",
     "output_type": "stream",
     "text": [
      "<re.Match object; span=(0, 4), match='good'>\n",
      "good\n"
     ]
    }
   ],
   "source": [
    "import re \n",
    "t = \"good and bad\"\n",
    "# match works on first element its only check first word \n",
    "# t = \"the good and bad\"\n",
    "m = re.match(\"good\",t)\n",
    "print(m)\n",
    "print(m.group())\n"
   ]
  },
  {
   "cell_type": "code",
   "execution_count": 7,
   "id": "c13d0591-5ca7-427a-af6f-8dd7b3c2404b",
   "metadata": {},
   "outputs": [
    {
     "name": "stdout",
     "output_type": "stream",
     "text": [
      "<re.Match object; span=(4, 8), match='good'>\n",
      "good\n"
     ]
    }
   ],
   "source": [
    "import re \n",
    "# t = \"good and bad\"\n",
    "# search works on any  element its searched the word in entire variable we mentioned \n",
    "t = \"the good and bad\"\n",
    "m = re.search(\"good\",t)\n",
    "print(m)\n",
    "print(m.group())"
   ]
  },
  {
   "cell_type": "code",
   "execution_count": 13,
   "id": "e48279ef-0c61-43d0-9022-bd070344b2b2",
   "metadata": {},
   "outputs": [
    {
     "name": "stdout",
     "output_type": "stream",
     "text": [
      "['good', 'good']\n"
     ]
    }
   ],
   "source": [
    "import re\n",
    "\n",
    "t = \"good and good\"\n",
    "m = re.findall(\"good\",t) # find all the element in the variable\n",
    "print(m)\n",
    "# print(m.group()) this is an attibute error"
   ]
  },
  {
   "cell_type": "code",
   "execution_count": null,
   "id": "d557df4d-4cfd-463d-b78b-384bb81f4799",
   "metadata": {},
   "outputs": [],
   "source": []
  }
 ],
 "metadata": {
  "kernelspec": {
   "display_name": "Python 3 (ipykernel)",
   "language": "python",
   "name": "python3"
  },
  "language_info": {
   "codemirror_mode": {
    "name": "ipython",
    "version": 3
   },
   "file_extension": ".py",
   "mimetype": "text/x-python",
   "name": "python",
   "nbconvert_exporter": "python",
   "pygments_lexer": "ipython3",
   "version": "3.11.9"
  }
 },
 "nbformat": 4,
 "nbformat_minor": 5
}
