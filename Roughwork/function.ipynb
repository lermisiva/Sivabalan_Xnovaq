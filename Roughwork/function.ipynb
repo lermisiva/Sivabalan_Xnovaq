{
 "cells": [
  {
   "cell_type": "code",
   "execution_count": 21,
   "id": "b7857a86-9836-4177-b65f-60f604f359ad",
   "metadata": {},
   "outputs": [
    {
     "data": {
      "text/plain": [
       "12"
      ]
     },
     "execution_count": 21,
     "metadata": {},
     "output_type": "execute_result"
    }
   ],
   "source": [
    "def sum(a,b):\n",
    "    action =\"this function performs addition\"\n",
    "    c=a+b\n",
    "    return c\n",
    "a=5\n",
    "b=7\n",
    "sum(a,b)"
   ]
  },
  {
   "cell_type": "code",
   "execution_count": 5,
   "id": "c45ddb84-ed68-4358-bcb4-b9dafde19b6a",
   "metadata": {},
   "outputs": [
    {
     "name": "stdout",
     "output_type": "stream",
     "text": [
      "my name is [1]\n",
      "new function\n"
     ]
    }
   ],
   "source": [
    "def new_function(*name):\n",
    "    print(f'my name is {name[1]}')\n",
    "    print(\"new function\")\n",
    "\n",
    "new_function([\"revathi\",19],[1]) "
   ]
  },
  {
   "cell_type": "code",
   "execution_count": 25,
   "id": "d04e16cc-8c15-49de-b606-738ccd083aff",
   "metadata": {},
   "outputs": [
    {
     "name": "stdout",
     "output_type": "stream",
     "text": [
      "my name is revathi\n",
      "new function\n"
     ]
    }
   ],
   "source": [
    "#a function is a named block of reusable code designed to perform a specific task.\n",
    "#input values can be passed into functions as arguments.\n",
    "#ame=\"revathy\"\n",
    "def new_function(*name):\n",
    "    print(f'my name is {name[0][0]}')\n",
    "    print(\"new function\")\n",
    "\n",
    "new_function([\"revathi\",19])"
   ]
  },
  {
   "cell_type": "code",
   "execution_count": 24,
   "id": "eacbda9b-3e17-4645-94b7-e1749b8f06ce",
   "metadata": {},
   "outputs": [
    {
     "name": "stdout",
     "output_type": "stream",
     "text": [
      "dog barks loudly\n",
      "dog sleep\n"
     ]
    }
   ],
   "source": [
    "#class\n",
    "#A class is like a blueprint or template for creating things.\n",
    "#object - Real, usable thing made from a class.\n",
    "class Dog:\n",
    "    def bark(self):\n",
    "        print(\"dog barks loudly\")\n",
    "    def sleep(self):\n",
    "        print(\"dog sleep\")\n",
    "dog1 = Dog() \n",
    "dog1.bark() \n",
    "dog1.sleep()\n",
    "\n"
   ]
  },
  {
   "cell_type": "code",
   "execution_count": 69,
   "id": "924967b4-ba0d-4b20-a4d1-2f381b0708f1",
   "metadata": {},
   "outputs": [
    {
     "name": "stdout",
     "output_type": "stream",
     "text": [
      "8\n",
      "6\n",
      "0\n"
     ]
    }
   ],
   "source": [
    "#Method Overloading (Same Method Name, Different Parameters)\n",
    "class Calculator:\n",
    "    def add(self, a=0, b=0, c=0):\n",
    "        return a + b + c\n",
    "\n",
    "calc = Calculator()\n",
    "\n",
    "print(calc.add(5, 3))       \n",
    "print(calc.add(1, 2, 3))    \n",
    "print(calc.add())           \n",
    "\n",
    "# def add(a=0, b=0, c=0):\n",
    "#         return a + b + c\n",
    "# add(2,3)"
   ]
  },
  {
   "cell_type": "code",
   "execution_count": 74,
   "id": "253276a4-658e-470b-8a74-73c1d3d64f74",
   "metadata": {},
   "outputs": [
    {
     "ename": "TypeError",
     "evalue": "add() missing 1 required positional argument: 'c'",
     "output_type": "error",
     "traceback": [
      "\u001b[31m---------------------------------------------------------------------------\u001b[39m",
      "\u001b[31mTypeError\u001b[39m                                 Traceback (most recent call last)",
      "\u001b[36mCell\u001b[39m\u001b[36m \u001b[39m\u001b[32mIn[74]\u001b[39m\u001b[32m, line 9\u001b[39m\n\u001b[32m      6\u001b[39m     d=a+b+c\n\u001b[32m      7\u001b[39m     \u001b[38;5;28;01mreturn\u001b[39;00m d\n\u001b[32m----> \u001b[39m\u001b[32m9\u001b[39m \u001b[43madd\u001b[49m\u001b[43m(\u001b[49m\u001b[32;43m1\u001b[39;49m\u001b[43m,\u001b[49m\u001b[32;43m2\u001b[39;49m\u001b[43m)\u001b[49m\n",
      "\u001b[31mTypeError\u001b[39m: add() missing 1 required positional argument: 'c'"
     ]
    }
   ],
   "source": [
    "\n",
    "    \n",
    "def add(a,b):\n",
    "    c=a+b\n",
    "    return c\n",
    "\n",
    "def add(a,b,c):\n",
    "    d=a+b+c\n",
    "    return d\n",
    "    \n",
    "add(1,2)"
   ]
  },
  {
   "cell_type": "code",
   "execution_count": 76,
   "id": "c0598c81-e903-4d6b-9cd0-88f502eec14d",
   "metadata": {},
   "outputs": [
    {
     "name": "stdout",
     "output_type": "stream",
     "text": [
      "Dog barks\n"
     ]
    }
   ],
   "source": [
    "#Method Overriding (Same Method Name in Child Class)\n",
    "#Method overriding means redefining a method from the parent class in the child class to give it a new behavior.\n",
    "class Animal:\n",
    "    def speak(self):\n",
    "        print(\"Animal speaks\")\n",
    "\n",
    "class Dog(Animal):\n",
    "    def speak(self):  \n",
    "        print(\"Dog barks\")\n",
    "\n",
    "# a = Animal()\n",
    "d = Dog()\n",
    "\n",
    "# a.speak()   \n",
    "d.speak()   \n"
   ]
  },
  {
   "cell_type": "code",
   "execution_count": 75,
   "id": "3ded56cd-8717-446d-bf22-5fad8b171307",
   "metadata": {},
   "outputs": [
    {
     "name": "stdout",
     "output_type": "stream",
     "text": [
      "This is the parent class\n"
     ]
    }
   ],
   "source": [
    "#inheritance \n",
    "#a class that inherits the properties and behaviour from another class\n",
    "class Parent:\n",
    "    def show(self):\n",
    "        print(\"This is the parent class\")\n",
    "\n",
    "class Child(Parent):\n",
    "    pass\n",
    "\n",
    "obj = Child()\n",
    "obj.show()  \n"
   ]
  },
  {
   "cell_type": "code",
   "execution_count": 34,
   "id": "0be49227-65ee-406d-80ba-5133286502f2",
   "metadata": {},
   "outputs": [],
   "source": [
    "#constructor\n",
    "#Python constructor is an instance method in a class, that is automatically called whenever a new object of the class is created.\n",
    "#The constructor's role is to assign value to instance variables as soon as the object is declared.\n"
   ]
  },
  {
   "cell_type": "code",
   "execution_count": 36,
   "id": "8252a6b1-7d3f-44e1-ae3d-4769eba2bec3",
   "metadata": {},
   "outputs": [
    {
     "name": "stdout",
     "output_type": "stream",
     "text": [
      "Name: Raji\n",
      "age: 21\n"
     ]
    }
   ],
   "source": [
    "#1.Default constructor\n",
    "#The Python constructor which does not accept any parameter other than self is called as default constructor.\n",
    "class Employee:\n",
    "   def __init__(self):\n",
    "      self.name = \"Raji\"\n",
    "      self.age = 21\n",
    "\n",
    "e1 = Employee()\n",
    "print (\"Name: {}\".format(e1.name))\n",
    "print (\"age: {}\".format(e1.age))"
   ]
  },
  {
   "cell_type": "code",
   "execution_count": 25,
   "id": "a2e04122-7066-4550-8a5c-456f40e19418",
   "metadata": {},
   "outputs": [
    {
     "name": "stdout",
     "output_type": "stream",
     "text": [
      "Name: Raji\n",
      "age: 24\n",
      "Name: Revathi\n",
      "age: 25\n"
     ]
    }
   ],
   "source": [
    "#2.Parameterized constructor\n",
    "#If a constructor is defined with multiple parameters along with self is called as parameterized constructor.\n",
    "class Employee:\n",
    "   def __init__(self, name, age,salary):\n",
    "      self.name = name\n",
    "      self.age = age\n",
    "      self.salary = salary\n",
    "\n",
    "e1 = Employee(\"Raji\", 24,1300)\n",
    "e2 = Employee(\"Revathi\", 25,1344)\n",
    "\n",
    "print (\"Name: {}\".format(e1.name))\n",
    "print (\"age: {}\".format(e1.age))\n",
    "print (\"Name: {}\".format(e2.name))\n",
    "print (\"age: {}\".format(e2.age))"
   ]
  },
  {
   "cell_type": "code",
   "execution_count": 30,
   "id": "baf68539-ab92-4b44-875e-c1e751dffd24",
   "metadata": {},
   "outputs": [],
   "source": [
    "e1.salary = 7000 \n",
    "e1.name = 'xyz' \n",
    "# del e1.salary \n",
    "e1.age=17"
   ]
  },
  {
   "cell_type": "code",
   "execution_count": 31,
   "id": "410d02db-f082-4673-a3b4-874c703a4f16",
   "metadata": {},
   "outputs": [
    {
     "name": "stdout",
     "output_type": "stream",
     "text": [
      "True\n",
      "xyz\n",
      "None\n",
      "None\n"
     ]
    }
   ],
   "source": [
    "print (hasattr(e1, 'salary')) \n",
    "print (getattr(e1, 'name')) \n",
    "print(setattr(e1, 'salary', 7000)) \n",
    "print(delattr(e1, 'age'))"
   ]
  },
  {
   "cell_type": "code",
   "execution_count": 2,
   "id": "dd48396a-c827-4261-aa34-e787d2865279",
   "metadata": {},
   "outputs": [
    {
     "name": "stdout",
     "output_type": "stream",
     "text": [
      "Name :  Bhavana , age:  24 , salary:  10000\n",
      "Bhavana\n",
      "10000\n",
      "24\n"
     ]
    }
   ],
   "source": [
    "#Encapsulation\n",
    "#It means restricting direct access to some of the object's components, which is key for data hiding and protection.\n",
    "class Employee:\n",
    "   def __init__(self, name, age, salary):\n",
    "      self.name = name # public variable\n",
    "      self._age = age # private variable\n",
    "      self._salary = salary # protected variable\n",
    "   def displayEmployee(self):\n",
    "      print (\"Name : \", self.name, \", age: \", self._age, \", salary: \", self._salary)\n",
    "\n",
    "e1=Employee(\"Bhavana\", 24, 10000)\n",
    "e1.displayEmployee()\n",
    "print (e1.name)\n",
    "print (e1._salary)\n",
    "print (e1._age)c \n"
   ]
  },
  {
   "cell_type": "code",
   "execution_count": 65,
   "id": "25ffbe12-4b17-4e69-8c3b-cba7427bc3d2",
   "metadata": {},
   "outputs": [
    {
     "name": "stdout",
     "output_type": "stream",
     "text": [
      "Name: Archana age: 21\n"
     ]
    }
   ],
   "source": [
    "class Employee:\n",
    "   def __init__(self, name, age):\n",
    "      self.__name = name\n",
    "      self.__age = age\n",
    "\n",
    "   def get_name(self):\n",
    "      return self.__name\n",
    "   def get_age(self):\n",
    "      return self.__age\n",
    "   def set_name(self, name):\n",
    "      self.__name = name\n",
    "      return\n",
    "   def set_age(self, age):\n",
    "      self.__age=age\n",
    "      return\n",
    "\n",
    "e1=Employee(\"Bhavana\", 24)\n",
    "# print (\"Name:\", e1.__name, \"age:\", e1.get_age())\n",
    "e1.set_name(\"Archana\")\n",
    "e1.set_age(21)\n",
    "print (\"Name:\", e1.get_name(), \"age:\", e1.get_age())"
   ]
  },
  {
   "cell_type": "code",
   "execution_count": 11,
   "id": "a86672a3-8602-416b-81e9-d75cad876464",
   "metadata": {},
   "outputs": [
    {
     "data": {
      "text/plain": [
       "Employee: Revathi, Salary: 7000"
      ]
     },
     "execution_count": 11,
     "metadata": {},
     "output_type": "execute_result"
    }
   ],
   "source": [
    "class Employee:\n",
    "    def __init__(self, name, salary):\n",
    "        self.name = name\n",
    "        self.salary = salary\n",
    "\n",
    "    def __repr__(self):\n",
    "        return f\"Employee: {self.name}, Salary: {self.salary}\"\n",
    "\n",
    "emp1 = Employee(\"Revathi\", 7000)\n",
    "emp1\n",
    "# "
   ]
  },
  {
   "cell_type": "code",
   "execution_count": 68,
   "id": "8394442f-4f8e-4e9b-b18f-de329ec3b911",
   "metadata": {},
   "outputs": [
    {
     "data": {
      "text/plain": [
       "Person(name='revathi')"
      ]
     },
     "execution_count": 68,
     "metadata": {},
     "output_type": "execute_result"
    }
   ],
   "source": [
    "class Person:\n",
    "    def __init__(self, name):\n",
    "        self.name = name\n",
    "    \n",
    "    def __str__(self):\n",
    "        return f\"Name: {self.name}\"\n",
    "    \n",
    "    def __repr__(self):\n",
    "        return f\"Person(name='{self.name}')\"\n",
    "p=Person(\"revathi\")\n",
    "p"
   ]
  },
  {
   "cell_type": "code",
   "execution_count": 10,
   "id": "1ca10ec3-4c9d-424f-b72a-f11d298d6bf2",
   "metadata": {},
   "outputs": [
    {
     "name": "stdout",
     "output_type": "stream",
     "text": [
      "revathi\n",
      "raji\n",
      "30\n"
     ]
    }
   ],
   "source": [
    "class Employee:\n",
    "    def __init__(self, name, age):\n",
    "        self.__name = name\n",
    "        self.__age = age\n",
    "\n",
    "    def get_name(self):\n",
    "        return self.__name\n",
    "\n",
    "    def set_name(self, name):\n",
    "        self.__name = name\n",
    "\n",
    "    def del_name(self):\n",
    "        del self.__name\n",
    "\n",
    "    name = property(get_name,\n",
    "                    set_name,\n",
    "                    del_name,\n",
    "                    \"The name of the employee\")\n",
    "\n",
    "    def get_age(self):\n",
    "        return self.__age\n",
    "\n",
    "    def set_age(self, age):\n",
    "        self.__age = age\n",
    "\n",
    "    def del_age(self):\n",
    "        del self.__age\n",
    "\n",
    "    age = property(get_age,\n",
    "                   set_age,\n",
    "                   del_age,\n",
    "                   \"The age of the employee\")\n",
    "    \n",
    "emp = Employee(\"revathi\", 30)\n",
    "print(emp.name)\n",
    "emp.name = \"raji\"\n",
    "print(emp.name) \n",
    "print(emp.age)\n"
   ]
  },
  {
   "cell_type": "markdown",
   "id": "e89fdf5b-999f-4325-b295-f4a6ae4eb595",
   "metadata": {},
   "source": [
    "# Nested function "
   ]
  },
  {
   "cell_type": "code",
   "execution_count": 2,
   "id": "5f317adb-fc38-4349-a44d-dd7c371b4912",
   "metadata": {},
   "outputs": [
    {
     "name": "stdout",
     "output_type": "stream",
     "text": [
      "7\n"
     ]
    }
   ],
   "source": [
    "def outer(x):\n",
    "    def inner(y):\n",
    "        return x + y\n",
    "    return inner\n",
    "add = outer(5)\n",
    "# print(add)\n",
    "print(add(2))"
   ]
  },
  {
   "cell_type": "code",
   "execution_count": null,
   "id": "eaeef6a0-4c7e-4616-afd4-5f46db9e8492",
   "metadata": {},
   "outputs": [],
   "source": []
  },
  {
   "cell_type": "markdown",
   "id": "044d1b70-6a97-46ef-9413-3a0dcd4936f3",
   "metadata": {},
   "source": [
    "# Decorretors"
   ]
  },
  {
   "cell_type": "code",
   "execution_count": 3,
   "id": "aae70c1a-4c0a-461b-a4c9-311a260bf770",
   "metadata": {},
   "outputs": [],
   "source": [
    "# def new(func,*args\n",
    "#         @ decorator"
   ]
  },
  {
   "cell_type": "code",
   "execution_count": 2,
   "id": "6d2e9089-19bf-4a31-a769-751dd1e6bcf6",
   "metadata": {},
   "outputs": [
    {
     "name": "stdout",
     "output_type": "stream",
     "text": [
      "hi\n",
      "None\n"
     ]
    }
   ],
   "source": [
    "def make(func):\n",
    "\n",
    "    def inner(x,y):\n",
    "        print(\"hi\")\n",
    "        func(x,y)\n",
    "    return inner\n",
    "\n",
    "@make\n",
    "def add(a,b):\n",
    "   return a+b\n",
    "print(add(2,3))"
   ]
  },
  {
   "cell_type": "code",
   "execution_count": 11,
   "id": "58d12ac4-f49f-4f27-b797-b607f6728ce9",
   "metadata": {},
   "outputs": [
    {
     "ename": "TypeError",
     "evalue": "add.__init__() missing 1 required positional argument: 'b'",
     "output_type": "error",
     "traceback": [
      "\u001b[31m---------------------------------------------------------------------------\u001b[39m",
      "\u001b[31mTypeError\u001b[39m                                 Traceback (most recent call last)",
      "\u001b[36mCell\u001b[39m\u001b[36m \u001b[39m\u001b[32mIn[11]\u001b[39m\u001b[32m, line 9\u001b[39m\n\u001b[32m      5\u001b[39m     \u001b[38;5;28;01mdef\u001b[39;00m\u001b[38;5;250m \u001b[39m\u001b[34m__call__\u001b[39m(\u001b[38;5;28mself\u001b[39m,a,b):\n\u001b[32m      6\u001b[39m         \u001b[38;5;28mprint\u001b[39m(a+b)\n\u001b[32m----> \u001b[39m\u001b[32m9\u001b[39m \u001b[38;5;129;43m@add\u001b[39;49m\n\u001b[32m     10\u001b[39m \u001b[38;5;28;43;01mdef\u001b[39;49;00m\u001b[38;5;250;43m \u001b[39;49m\u001b[34;43mfunc\u001b[39;49m\u001b[43m(\u001b[49m\u001b[43ma\u001b[49m\u001b[43m,\u001b[49m\u001b[43mb\u001b[49m\u001b[43m)\u001b[49m\u001b[43m:\u001b[49m\n\u001b[32m     11\u001b[39m \u001b[43m    \u001b[49m\u001b[38;5;28;43;01mpass\u001b[39;49;00m\n\u001b[32m     12\u001b[39m \u001b[43m    \u001b[49m\u001b[38;5;28;43;01mreturn\u001b[39;49;00m\n",
      "\u001b[31mTypeError\u001b[39m: add.__init__() missing 1 required positional argument: 'b'"
     ]
    }
   ],
   "source": [
    "# def add(): decorator by class and function with in the class function is called method\n",
    "  \n",
    "    \n",
    "             \n",
    "\n",
    "\n",
    "class func:\n",
    "    @add\n",
    "    def add()\n",
    "    return a+b\n",
    "print(add(3,4))\n",
    "    "
   ]
  },
  {
   "cell_type": "code",
   "execution_count": null,
   "id": "b92b936f-9d05-4116-805c-03da39fb4adb",
   "metadata": {},
   "outputs": [],
   "source": []
  }
 ],
 "metadata": {
  "kernelspec": {
   "display_name": "Python 3 (ipykernel)",
   "language": "python",
   "name": "python3"
  },
  "language_info": {
   "codemirror_mode": {
    "name": "ipython",
    "version": 3
   },
   "file_extension": ".py",
   "mimetype": "text/x-python",
   "name": "python",
   "nbconvert_exporter": "python",
   "pygments_lexer": "ipython3",
   "version": "3.11.9"
  }
 },
 "nbformat": 4,
 "nbformat_minor": 5
}
