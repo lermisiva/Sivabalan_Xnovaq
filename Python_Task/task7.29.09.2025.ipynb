{
 "cells": [
  {
   "cell_type": "code",
   "execution_count": 45,
   "id": "0dfd1143-4e4f-4b64-a1cc-68388eddf3d3",
   "metadata": {},
   "outputs": [
    {
     "name": "stdout",
     "output_type": "stream",
     "text": [
      "Found 6\n"
     ]
    }
   ],
   "source": [
    "# try else [5,6,9,10,12] id even num its true if not hadle exception\n",
    "n = [5,6,9,10,12]\n",
    "# n.append(int(input(\"Enter your num\")))\n",
    "\n",
    "# try:\n",
    "for i in n:\n",
    "    if i%2 == 0:\n",
    "        print(\"Found\",i)\n",
    "        break\n",
    "else:\n",
    "    print(\"false\")\n",
    "# except:\n",
    "    # print(\"Ivalid num \")\n",
    "\n",
    "# else:\n",
    "    # print(\"true\")\n",
    "    \n",
    "            \n"
   ]
  },
  {
   "cell_type": "code",
   "execution_count": 3,
   "id": "556bf767-5888-4c87-80b4-3ba9f8eb7279",
   "metadata": {},
   "outputs": [
    {
     "name": "stdin",
     "output_type": "stream",
     "text": [
      "Enter your ID num: 3\n",
      "Enter your name: j'\n",
      "Enter your Department: l\n",
      "Enter your salary: 88\n"
     ]
    },
    {
     "name": "stdout",
     "output_type": "stream",
     "text": [
      "\n",
      "ID : 3\n",
      "\n",
      "Details\n",
      "name : j'\n",
      "dept : l\n",
      "salary : 88\n"
     ]
    }
   ],
   "source": [
    "# 10. Write a function employee_details(*args, **kwargs) that takes employee ID and any number of keyword attributes (like name, dept, salary) and\n",
    "# displays all.\n",
    "\n",
    "try:\n",
    "    def employee(*arg,**kwargs):\n",
    "        for emp in arg:\n",
    "            print(\"\\nID :\",emp)\n",
    "        print(\"\\nDetails\")\n",
    "        for key,value in kwargs.items():\n",
    "            print(f\"{key} : {value}\")\n",
    "    idnum= int(input(\"Enter your ID num:\"))\n",
    "    name1 = input(\"Enter your name:\")\n",
    "    dept1 = input(\"Enter your Department:\")\n",
    "    salary1 =int(input(\"Enter your salary:\"))\n",
    "    employee(idnum,name = name1,dept = dept1,salary = salary1)\n",
    "except ValueError:\n",
    "    print(\"Invalid input numbers only try again\")\n",
    "   "
   ]
  },
  {
   "cell_type": "code",
   "execution_count": 10,
   "id": "0a38cb20-0a3a-4d56-9fd0-e6f9da807127",
   "metadata": {},
   "outputs": [
    {
     "ename": "TypeError",
     "evalue": "Book.__init__() missing 3 required positional arguments: 'title', 'author', and 'price'",
     "output_type": "error",
     "traceback": [
      "\u001b[31m---------------------------------------------------------------------------\u001b[39m",
      "\u001b[31mTypeError\u001b[39m                                 Traceback (most recent call last)",
      "\u001b[36mCell\u001b[39m\u001b[36m \u001b[39m\u001b[32mIn[10]\u001b[39m\u001b[32m, line 16\u001b[39m\n\u001b[32m     13\u001b[39m     \u001b[38;5;28;01mdef\u001b[39;00m\u001b[38;5;250m \u001b[39m\u001b[34mprice\u001b[39m(\u001b[38;5;28mself\u001b[39m):\n\u001b[32m     14\u001b[39m         \u001b[38;5;66;03m# price = 2000\u001b[39;00m\n\u001b[32m     15\u001b[39m         \u001b[38;5;28mprint\u001b[39m(\u001b[33m\"\u001b[39m\u001b[33mTitle:\u001b[39m\u001b[33m\"\u001b[39m,\u001b[38;5;28mself\u001b[39m.price)\n\u001b[32m---> \u001b[39m\u001b[32m16\u001b[39m b = \u001b[43mBook\u001b[49m\u001b[43m(\u001b[49m\u001b[43m)\u001b[49m\n\u001b[32m     17\u001b[39m b.title()\n",
      "\u001b[31mTypeError\u001b[39m: Book.__init__() missing 3 required positional arguments: 'title', 'author', and 'price'"
     ]
    }
   ],
   "source": [
    "# 1.Create a Book class with attributes like title, author, and price. Create 3 different book objects and print their attributes\n",
    "class Book:\n",
    "    def __init__ (self,title,author,price):\n",
    "        self.title =\"Harry Potter\"\n",
    "        self.author =\" JK Rowling\"\n",
    "        self.price = 2000\n",
    "    def title(self):\n",
    "        # title = \"Harry Potter\"\n",
    "        print(\"Title:\",self.title)\n",
    "    def author(self):\n",
    "        # author =\" JK Rowling\"\n",
    "        print(\"Title:\",self.author)\n",
    "    def price(self):\n",
    "        # price = 2000\n",
    "        print(\"Title:\",self.price)\n",
    "b = Book()\n",
    "b.title()\n",
    "    \n",
    "         \n",
    "       \n",
    "   "
   ]
  },
  {
   "cell_type": "code",
   "execution_count": null,
   "id": "bd60f864-f864-424a-bb0e-2409d6e700a2",
   "metadata": {},
   "outputs": [],
   "source": []
  }
 ],
 "metadata": {
  "kernelspec": {
   "display_name": "Python 3 (ipykernel)",
   "language": "python",
   "name": "python3"
  },
  "language_info": {
   "codemirror_mode": {
    "name": "ipython",
    "version": 3
   },
   "file_extension": ".py",
   "mimetype": "text/x-python",
   "name": "python",
   "nbconvert_exporter": "python",
   "pygments_lexer": "ipython3",
   "version": "3.11.9"
  }
 },
 "nbformat": 4,
 "nbformat_minor": 5
}
