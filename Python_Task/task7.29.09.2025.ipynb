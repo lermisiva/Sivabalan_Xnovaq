{
 "cells": [
  {
   "cell_type": "code",
   "execution_count": 45,
   "id": "0dfd1143-4e4f-4b64-a1cc-68388eddf3d3",
   "metadata": {},
   "outputs": [
    {
     "name": "stdout",
     "output_type": "stream",
     "text": [
      "Found 6\n"
     ]
    }
   ],
   "source": [
    "# try else [5,6,9,10,12] id even num its true if not hadle exception\n",
    "n = [5,6,9,10,12]\n",
    "# n.append(int(input(\"Enter your num\")))\n",
    "\n",
    "# try:\n",
    "for i in n:\n",
    "    if i%2 == 0:\n",
    "        print(\"Found\",i)\n",
    "        break\n",
    "else:\n",
    "    print(\"false\")\n",
    "# except:\n",
    "    # print(\"Ivalid num \")\n",
    "\n",
    "# else:\n",
    "    # print(\"true\")\n",
    "    \n",
    "            \n"
   ]
  },
  {
   "cell_type": "code",
   "execution_count": 43,
   "id": "556bf767-5888-4c87-80b4-3ba9f8eb7279",
   "metadata": {},
   "outputs": [
    {
     "name": "stdin",
     "output_type": "stream",
     "text": [
      "Enter your ID num: 2\n",
      "Enter your name: e\n",
      "Enter your Department: w\n",
      "Enter your salary: 2\n"
     ]
    },
    {
     "name": "stdout",
     "output_type": "stream",
     "text": [
      "\n",
      "ID : 2\n",
      "\n",
      "Details\n",
      "name : e\n",
      "dept : w\n",
      "salary : 2\n"
     ]
    }
   ],
   "source": [
    "# 10. Write a function employee_details(*args, **kwargs) that takes employee ID and any number of keyword attributes (like name, dept, salary) and\n",
    "# displays all.\n",
    "\n",
    "try:\n",
    "    def employee(*arg,**kwargs):\n",
    "        for emp in arg:\n",
    "            print(\"\\nID :\",emp)\n",
    "        print(\"\\nDetails\")\n",
    "        for key,value in kwargs.items():\n",
    "            print(f\"{key} : {value}\")\n",
    "    idnum= int(input(\"Enter your ID num:\"))\n",
    "    name1 = input(\"Enter your name:\")\n",
    "    dept1 = input(\"Enter your Department:\")\n",
    "    salary1 =int(input(\"Enter your salary:\"))\n",
    "    employee(idnum,name = name1,dept = dept1,salary = salary1)\n",
    "except ValueError:\n",
    "    print(\"Invalid input numbers only try again\")\n",
    "\n",
    "\n",
    "    \n",
    "    \n",
    "    \n",
    "    "
   ]
  },
  {
   "cell_type": "code",
   "execution_count": null,
   "id": "0a38cb20-0a3a-4d56-9fd0-e6f9da807127",
   "metadata": {},
   "outputs": [],
   "source": []
  }
 ],
 "metadata": {
  "kernelspec": {
   "display_name": "Python 3 (ipykernel)",
   "language": "python",
   "name": "python3"
  },
  "language_info": {
   "codemirror_mode": {
    "name": "ipython",
    "version": 3
   },
   "file_extension": ".py",
   "mimetype": "text/x-python",
   "name": "python",
   "nbconvert_exporter": "python",
   "pygments_lexer": "ipython3",
   "version": "3.11.9"
  }
 },
 "nbformat": 4,
 "nbformat_minor": 5
}
