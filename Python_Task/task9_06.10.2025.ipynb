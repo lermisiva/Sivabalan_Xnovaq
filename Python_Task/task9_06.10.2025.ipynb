{
 "cells": [
  {
   "cell_type": "code",
   "execution_count": 9,
   "id": "11c9404f-0f4c-47f3-8e96-e081dc2450f3",
   "metadata": {},
   "outputs": [
    {
     "name": "stdin",
     "output_type": "stream",
     "text": [
      "Enter Your name : siva\n",
      "Enter Your Id : 212\n"
     ]
    },
    {
     "name": "stdout",
     "output_type": "stream",
     "text": [
      "1. Credit Card\n",
      "2. Upi\n"
     ]
    },
    {
     "name": "stdin",
     "output_type": "stream",
     "text": [
      "Choose the option 1 or 2\n",
      " 2\n"
     ]
    },
    {
     "name": "stdout",
     "output_type": "stream",
     "text": [
      "1. Pay\n",
      "2. Refund\n"
     ]
    },
    {
     "name": "stdin",
     "output_type": "stream",
     "text": [
      "Enter your choice 1 or 2\n",
      " 2\n",
      "Enter Your refund amount : 200\n"
     ]
    },
    {
     "name": "stdout",
     "output_type": "stream",
     "text": [
      "\n",
      "Refund Info: \n",
      "User name: siva \n",
      "ID:212\n",
      "Refund Amount: 200\n"
     ]
    }
   ],
   "source": [
    "# 10.Create an abstract class Payment with abstract methods pay() and\n",
    "# refund().\n",
    "\n",
    "# Implement CreditCardPayment and UPIPayment subclasses with their own logic.\n",
    "from abc import ABC, abstractmethod\n",
    "class Payment(ABC):\n",
    "    @abstractmethod\n",
    "    def pay(self,name,uid):\n",
    "        pass\n",
    "    @abstractmethod\n",
    "    def refund(self,name,uid):\n",
    "        pass\n",
    "class Credit(Payment):\n",
    "    def pay(self,name,uid,payment):\n",
    "        self.payment = payment\n",
    "        pay_info = f\"Payment Info: \\nUser name: {name} \\nID:{uid}\\nPayment Amount: {payment}\"\n",
    "        return pay_info \n",
    "    def refund(self,name,uid,refund):\n",
    "        self.refund = refund\n",
    "        ref_info = f\"Refund Info: \\nUser name: {name} \\nID:{uid}\\nRefund Amount: {refund}\"\n",
    "        return ref_info \n",
    "        \n",
    "class upi(Payment):\n",
    "     def pay(self,name,uid,payment):\n",
    "        self.payment = payment\n",
    "        pay_info = f\"\\nPayment Info: \\nUser name: {name} \\nID:{uid}\\nPayment Amount : {payment}\"\n",
    "        return pay_info \n",
    "     def refund(self,name,uid,refund):\n",
    "        self.refund = refund\n",
    "        ref_info = f\"\\nRefund Info: \\nUser name: {name} \\nID:{uid}\\nRefund Amount: {refund}\"\n",
    "        return ref_info \n",
    "# p = Credit()\n",
    "r = upi()\n",
    "name = input(\"Enter Your name :\")\n",
    "uid = int(input(\"Enter Your Id :\"))\n",
    "print(\"1. Credit Card\\n2. Upi\")\n",
    "user = int(input(\"Choose the option 1 or 2\\n\"))\n",
    "if user == 1:\n",
    "    p = Credit()\n",
    "elif user == 2:\n",
    "    r = upi()\n",
    "else:\n",
    "    print(\"Invalid num try again\")\n",
    "    exit()\n",
    "print(\"1. Pay\\n2. Refund\")\n",
    "choice = int(input(\"Enter your choice 1 or 2\\n\"))\n",
    "if choice == 1:\n",
    "    print(p.pay(name,uid,payment = int(input(\"Enter Your Payment :\"))))\n",
    "elif choice == 2: \n",
    "    print(r.refund(name,uid,refund = int(input(\"Enter Your refund amount :\"))))\n",
    "else:\n",
    "    print(\"Invalid number try again\")\n",
    "    exit()\n",
    "        \n"
   ]
  },
  {
   "cell_type": "code",
   "execution_count": null,
   "id": "dabf1c67-a33b-4528-ba16-93dba687038f",
   "metadata": {},
   "outputs": [],
   "source": []
  }
 ],
 "metadata": {
  "kernelspec": {
   "display_name": "Python 3 (ipykernel)",
   "language": "python",
   "name": "python3"
  },
  "language_info": {
   "codemirror_mode": {
    "name": "ipython",
    "version": 3
   },
   "file_extension": ".py",
   "mimetype": "text/x-python",
   "name": "python",
   "nbconvert_exporter": "python",
   "pygments_lexer": "ipython3",
   "version": "3.11.9"
  }
 },
 "nbformat": 4,
 "nbformat_minor": 5
}
