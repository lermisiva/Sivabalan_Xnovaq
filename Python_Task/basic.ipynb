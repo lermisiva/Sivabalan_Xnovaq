{
 "cells": [
  {
   "cell_type": "code",
   "execution_count": 2,
   "id": "4dc7e7f2-04e9-420a-8d3f-9020e38a8c77",
   "metadata": {},
   "outputs": [
    {
     "name": "stdout",
     "output_type": "stream",
     "text": [
      "Hi\n"
     ]
    }
   ],
   "source": [
    "print(\"Hi\")"
   ]
  },
  {
   "cell_type": "code",
   "execution_count": 2,
   "id": "9b8bdbf7-7e92-454c-8434-9dc8efb658cf",
   "metadata": {},
   "outputs": [
    {
     "name": "stdout",
     "output_type": "stream",
     "text": [
      "12\n",
      "4\n",
      "32\n",
      "2.0\n",
      "2\n",
      "0\n",
      "4096\n"
     ]
    }
   ],
   "source": [
    "a = 8\n",
    "b = 4\n",
    "\n",
    "# Arithmetic Operator\n",
    "print(a + b)   # Addition\n",
    "print(a - b)   # Subtraction\n",
    "print(a * b)   # Multiplication\n",
    "print(a / b)   # division\n",
    "print(a // b)  # floor division\n",
    "print(a % b)   # module\n",
    "print(a ** b)  # power"
   ]
  },
  {
   "cell_type": "code",
   "execution_count": 3,
   "id": "2a1706b4-8dee-4d5d-a4d4-df44f6e8de80",
   "metadata": {},
   "outputs": [
    {
     "name": "stdout",
     "output_type": "stream",
     "text": [
      "False\n",
      "True\n",
      "True\n",
      "False\n",
      "True\n",
      "False\n"
     ]
    }
   ],
   "source": [
    "# Comparision Operator\n",
    "print(a == b)  # Equal \n",
    "print(a != b)  # Not equal \n",
    "print(a > b)   # Greater than \n",
    "print(a < b)   # Less than \n",
    "print(a >= b)  # Greater or equal \n",
    "print(a <= b)  # Lesser or equal"
   ]
  },
  {
   "cell_type": "code",
   "execution_count": 3,
   "id": "ef6ce80f-d676-4463-8260-0f9afbafc9fd",
   "metadata": {},
   "outputs": [
    {
     "name": "stdout",
     "output_type": "stream",
     "text": [
      "0\n",
      "1\n",
      "True\n"
     ]
    }
   ],
   "source": [
    "# logical operator\n",
    "a = 0\n",
    "b = 1\n",
    "\n",
    "print(a and b)  # AND \n",
    "print(a or b)   # OR \n",
    "print(not a)    # NOT "
   ]
  },
  {
   "cell_type": "code",
   "execution_count": 14,
   "id": "6e5f0cf8-03fd-47e7-995a-16b13be3604b",
   "metadata": {},
   "outputs": [
    {
     "name": "stdout",
     "output_type": "stream",
     "text": [
      "15\n",
      "12\n",
      "24\n",
      "6.0\n",
      "1.0\n",
      "1.0\n"
     ]
    }
   ],
   "source": [
    "# Assignment operator\n",
    "num = 10\n",
    "num += 5\n",
    "print(num)\n",
    "num -= 3\n",
    "print(num)\n",
    "num *= 2 \n",
    "print(num)\n",
    "num /= 4  \n",
    "print(num)\n",
    "num %= 5  \n",
    "print(num)\n",
    "num **= 3 \n",
    "print(num)"
   ]
  },
  {
   "cell_type": "code",
   "execution_count": 4,
   "id": "7823aea0-1780-499a-9c6b-ad15830e7140",
   "metadata": {},
   "outputs": [
    {
     "name": "stdout",
     "output_type": "stream",
     "text": [
      "2\n",
      "7\n",
      "5\n",
      "-7\n"
     ]
    }
   ],
   "source": [
    "# Bitwise Operator\n",
    "x = 6  \n",
    "y = 3   \n",
    "print(x & y)   # AND\n",
    "print(x | y)   # OR\n",
    "print(~x)      # NOT -(6+1)"
   ]
  },
  {
   "cell_type": "code",
   "execution_count": 11,
   "id": "7b775b04-9540-454c-9b28-f75cdb9268d5",
   "metadata": {},
   "outputs": [
    {
     "name": "stdout",
     "output_type": "stream",
     "text": [
      "True\n",
      "True\n"
     ]
    }
   ],
   "source": [
    "# Membership operator\n",
    "list1 = [1, 2, 3, 4, 5]\n",
    "\n",
    "print(3 in list1)      \n",
    "print(10 not in list1) "
   ]
  },
  {
   "cell_type": "code",
   "execution_count": 12,
   "id": "0d0389ba-f03e-4c57-a28b-a32d6bbc8948",
   "metadata": {},
   "outputs": [
    {
     "name": "stdout",
     "output_type": "stream",
     "text": [
      "False\n",
      "True\n",
      "True\n"
     ]
    }
   ],
   "source": [
    "# Identity Operator\n",
    "a = [1, 2, 3]\n",
    "b = [1, 2, 3]\n",
    "c = a\n",
    "\n",
    "print(a is b)     # False \n",
    "print(a is c)     # True  \n",
    "print(a is not b) # True\n"
   ]
  },
  {
   "cell_type": "code",
   "execution_count": null,
   "id": "8f69fe69-3b78-4976-808a-13b56b160b4c",
   "metadata": {},
   "outputs": [],
   "source": []
  }
 ],
 "metadata": {
  "kernelspec": {
   "display_name": "Python 3 (ipykernel)",
   "language": "python",
   "name": "python3"
  },
  "language_info": {
   "codemirror_mode": {
    "name": "ipython",
    "version": 3
   },
   "file_extension": ".py",
   "mimetype": "text/x-python",
   "name": "python",
   "nbconvert_exporter": "python",
   "pygments_lexer": "ipython3",
   "version": "3.11.9"
  }
 },
 "nbformat": 4,
 "nbformat_minor": 5
}
