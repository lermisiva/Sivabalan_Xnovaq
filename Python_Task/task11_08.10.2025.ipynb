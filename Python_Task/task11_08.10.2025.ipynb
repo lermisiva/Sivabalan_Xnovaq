{
 "cells": [
  {
   "cell_type": "code",
   "execution_count": 2,
   "id": "67cb1c52-66c5-48a1-87f4-339c6edac9bd",
   "metadata": {},
   "outputs": [
    {
     "name": "stdout",
     "output_type": "stream",
     "text": [
      "hi this is sivabalan and this is check message for read \n",
      "['hi', 'this', 'is', 'sivabalan', 'and', 'this', 'is', 'check', 'message', 'for', 'read']\n",
      "{'hi': 1, 'this': 2, 'is': 2, 'sivabalan': 1, 'and': 1, 'check': 1, 'message': 1, 'for': 1, 'read': 1}\n"
     ]
    }
   ],
   "source": [
    "# 10.Write a program that reads a file, splits words, and counts their frequency using a dictionary and loops.\n",
    "# Save the result in another file named word_count.txt\n",
    "def read():\n",
    "    with open (\"read.text\",\"r\") as read_file:\n",
    "       c = read_file.readline()\n",
    "       print(c)\n",
    "       a = c.split()\n",
    "       print(a)\n",
    "       freq = {}\n",
    "       for i in a:\n",
    "           # freq[i] = freq.get(i,0)+1\n",
    "           if i in freq:\n",
    "               freq[i]+=1\n",
    "           else:\n",
    "              freq[i] = 1\n",
    "           \n",
    "       print(freq)\n",
    "       word = freq\n",
    "       with open (\"word_count.txt\",\"a\") as count:\n",
    "           count.write(\"\\n\")\n",
    "           count.writelines(str(word))\n",
    "read()\n",
    "    "
   ]
  },
  {
   "cell_type": "code",
   "execution_count": 4,
   "id": "65242eaf-e9f2-471e-ad44-bdf367fa5490",
   "metadata": {},
   "outputs": [],
   "source": [
    "# ---------------------------------------------------------------------------\n",
    "# TypeError                                 Traceback (most recent call last)\n",
    "# Cell In[23], line 16\n",
    "#      13                freq[i] = freq.get(i,0)+1\n",
    "#      14            count.write(freq)\n",
    "# ---> 16 read()\n",
    "\n",
    "# Cell In[23], line 14, in read()\n",
    "#      12 for i in a:\n",
    "#      13     freq[i] = freq.get(i,0)+1\n",
    "# ---> 14 count.write(freq)\n",
    "\n",
    "# TypeError: write() argument must be str, not dict\n"
   ]
  },
  {
   "cell_type": "code",
   "execution_count": 10,
   "id": "b547a5e0-66ea-486c-a931-894d4d8ae755",
   "metadata": {},
   "outputs": [
    {
     "name": "stdout",
     "output_type": "stream",
     "text": [
      "Counter({'banana': 3, 'apple': 2, 'orange': 1})\n"
     ]
    }
   ],
   "source": [
    "# # one of the counter to use frequescy\n",
    "# from collections import Counter\n",
    "\n",
    "# a = ['apple', 'banana', 'apple', 'orange', 'banana', 'banana']\n",
    "# freq = Counter(a)\n",
    "\n",
    "# print(freq)"
   ]
  },
  {
   "cell_type": "code",
   "execution_count": null,
   "id": "70e16381-f856-40c9-878f-e3a3565064a6",
   "metadata": {},
   "outputs": [],
   "source": []
  }
 ],
 "metadata": {
  "kernelspec": {
   "display_name": "Python 3 (ipykernel)",
   "language": "python",
   "name": "python3"
  },
  "language_info": {
   "codemirror_mode": {
    "name": "ipython",
    "version": 3
   },
   "file_extension": ".py",
   "mimetype": "text/x-python",
   "name": "python",
   "nbconvert_exporter": "python",
   "pygments_lexer": "ipython3",
   "version": "3.11.9"
  }
 },
 "nbformat": 4,
 "nbformat_minor": 5
}
