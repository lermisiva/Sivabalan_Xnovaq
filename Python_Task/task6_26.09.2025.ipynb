{
 "cells": [
  {
   "cell_type": "code",
   "execution_count": 43,
   "id": "0f3b39b9-f722-4bac-8395-fa49e4ad484f",
   "metadata": {},
   "outputs": [
    {
     "name": "stdout",
     "output_type": "stream",
     "text": [
      "no attribute\n"
     ]
    },
    {
     "name": "stdin",
     "output_type": "stream",
     "text": [
      "Enter your Weight 2\n"
     ]
    },
    {
     "name": "stdout",
     "output_type": "stream",
     "text": [
      "[2]\n"
     ]
    },
    {
     "name": "stdin",
     "output_type": "stream",
     "text": [
      "change your Weight 3\n"
     ]
    },
    {
     "name": "stdout",
     "output_type": "stream",
     "text": [
      "3\n",
      "True\n",
      "False\n",
      "Weight Value is Deleted\n"
     ]
    }
   ],
   "source": [
    "# 10 Create a class Box with no attributes. Dynamically:\n",
    "# Add an attribute weight.\n",
    "# Check if it exists.\n",
    "# Change its value.\n",
    "# Delete it.\n",
    "# Try accessing it and handle the exception.\n",
    "\n",
    "try:\n",
    "    class Box:\n",
    "        def __init__(self):\n",
    "            print(\"no attribute\")\n",
    "    b1 = Box()\n",
    "    # print(b1)\n",
    "    setattr(b1,'weight',int(input(\"Enter your Weight\")))\n",
    "    n = [b1.weight]\n",
    "    print(n)\n",
    "    setattr(b1,'weight',int(input(\"change your Weight\")))\n",
    "    n = (b1.weight)\n",
    "    print(n)\n",
    "    print(hasattr(b1,'weight'))\n",
    "    print(hasattr(b1,'wei'))\n",
    "    # print(delattr(b1,'weight'))\n",
    "    del n\n",
    "    print(n)\n",
    "    \n",
    "    \n",
    "except ValueError:\n",
    "    print(\"Invalid input only integer\")\n",
    "except NameError:\n",
    "    print(\"Weight Value is Deleted\")\n",
    "    \n",
    "            "
   ]
  },
  {
   "cell_type": "code",
   "execution_count": 47,
   "id": "6527059a-c0a4-49c2-b48f-b1b2cfb96747",
   "metadata": {},
   "outputs": [
    {
     "name": "stdin",
     "output_type": "stream",
     "text": [
      "Enter your num: 3\n"
     ]
    },
    {
     "name": "stdout",
     "output_type": "stream",
     "text": [
      "Product : 9\n"
     ]
    }
   ],
   "source": [
    "# 1 Write a function multiply_all that takes any number of arguments and returns their product.\n",
    "def prod():\n",
    "     a = int(input(\"Enter your num:\"))\n",
    "     print(\"Product :\" ,a*a)\n",
    "prod()    "
   ]
  },
  {
   "cell_type": "code",
   "execution_count": 54,
   "id": "1cdbeac0-7e59-42cf-aa43-b9f5ba12706c",
   "metadata": {},
   "outputs": [
    {
     "name": "stdin",
     "output_type": "stream",
     "text": [
      "Enter your name: rtr\n",
      "Enter your num: 8\n"
     ]
    },
    {
     "ename": "TypeError",
     "evalue": "'function' object is not iterable",
     "output_type": "error",
     "traceback": [
      "\u001b[31m---------------------------------------------------------------------------\u001b[39m",
      "\u001b[31mTypeError\u001b[39m                                 Traceback (most recent call last)",
      "\u001b[36mCell\u001b[39m\u001b[36m \u001b[39m\u001b[32mIn[54]\u001b[39m\u001b[32m, line 9\u001b[39m\n\u001b[32m      7\u001b[39m     \u001b[38;5;28;01mfor\u001b[39;00m name,value \u001b[38;5;129;01min\u001b[39;00m person:\n\u001b[32m      8\u001b[39m         dict1.dict(\u001b[38;5;28mzip\u001b[39m(name,num))\n\u001b[32m----> \u001b[39m\u001b[32m9\u001b[39m \u001b[43mperson\u001b[49m\u001b[43m(\u001b[49m\u001b[43m)\u001b[49m\n",
      "\u001b[36mCell\u001b[39m\u001b[36m \u001b[39m\u001b[32mIn[54]\u001b[39m\u001b[32m, line 7\u001b[39m, in \u001b[36mperson\u001b[39m\u001b[34m(**name)\u001b[39m\n\u001b[32m      6\u001b[39m \u001b[38;5;28;01mdef\u001b[39;00m\u001b[38;5;250m \u001b[39m\u001b[34mperson\u001b[39m(**name):\n\u001b[32m----> \u001b[39m\u001b[32m7\u001b[39m \u001b[43m    \u001b[49m\u001b[38;5;28;43;01mfor\u001b[39;49;00m\u001b[43m \u001b[49m\u001b[43mname\u001b[49m\u001b[43m,\u001b[49m\u001b[43mvalue\u001b[49m\u001b[43m \u001b[49m\u001b[38;5;129;43;01min\u001b[39;49;00m\u001b[43m \u001b[49m\u001b[43mperson\u001b[49m\u001b[43m:\u001b[49m\n\u001b[32m      8\u001b[39m \u001b[43m        \u001b[49m\u001b[43mdict1\u001b[49m\u001b[43m.\u001b[49m\u001b[43mdict\u001b[49m\u001b[43m(\u001b[49m\u001b[38;5;28;43mzip\u001b[39;49m\u001b[43m(\u001b[49m\u001b[43mname\u001b[49m\u001b[43m,\u001b[49m\u001b[43mnum\u001b[49m\u001b[43m)\u001b[49m\u001b[43m)\u001b[49m\n",
      "\u001b[31mTypeError\u001b[39m: 'function' object is not iterable"
     ]
    }
   ],
   "source": [
    "# 2 Write a function describe_person that takes any number of keyword arguments and prints them in the format:\n",
    "# key: value.\n",
    "def person(**name):\n",
    "    for name,value in person:\n",
    "        dict1.dict(zip(name,num))\n",
    "person()\n",
    "    \n",
    "    \n"
   ]
  },
  {
   "cell_type": "code",
   "execution_count": null,
   "id": "52fa768b-18bd-4850-994f-8b8fbf9f23e1",
   "metadata": {},
   "outputs": [],
   "source": []
  },
  {
   "cell_type": "code",
   "execution_count": null,
   "id": "2b41cf60-a0fd-4959-9dab-e8ab32491741",
   "metadata": {},
   "outputs": [],
   "source": []
  }
 ],
 "metadata": {
  "kernelspec": {
   "display_name": "Python 3 (ipykernel)",
   "language": "python",
   "name": "python3"
  },
  "language_info": {
   "codemirror_mode": {
    "name": "ipython",
    "version": 3
   },
   "file_extension": ".py",
   "mimetype": "text/x-python",
   "name": "python",
   "nbconvert_exporter": "python",
   "pygments_lexer": "ipython3",
   "version": "3.11.9"
  }
 },
 "nbformat": 4,
 "nbformat_minor": 5
}
