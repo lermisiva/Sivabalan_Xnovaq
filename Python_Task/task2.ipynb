{
 "cells": [
  {
   "cell_type": "code",
   "execution_count": 23,
   "id": "ee25f1a3-8411-48bd-91d2-71bce54d4bbb",
   "metadata": {},
   "outputs": [
    {
     "name": "stdout",
     "output_type": "stream",
     "text": [
      "2 is not Divisible by 9\n",
      "4 is not Divisible by 9\n",
      "6 is not Divisible by 9\n",
      "8 is not Divisible by 9\n",
      "10 is not Divisible by 9\n",
      "12 is not Divisible by 9\n",
      "14 is not Divisible by 9\n",
      "16 is not Divisible by 9\n",
      "Found 18  is Divisible by 9\n"
     ]
    }
   ],
   "source": [
    "# 10 loop num from 1 to 20 if even num divisible by 9 is found break\n",
    "for i in range(1,20):\n",
    "        if i>0 and i% 2 == 0:\n",
    "            if i % 9 == 0 :\n",
    "                print(\"Found\",i,\" is Divisible by 9\")\n",
    "                break\n",
    "            else:\n",
    "                print(i,\"is not Divisible by 9\")"
   ]
  },
  {
   "cell_type": "code",
   "execution_count": 17,
   "id": "8e2982c6-e19b-4585-b0cf-f253c5d4678b",
   "metadata": {},
   "outputs": [
    {
     "name": "stdin",
     "output_type": "stream",
     "text": [
      "Enter the Temperature degree: 20\n"
     ]
    },
    {
     "name": "stdout",
     "output_type": "stream",
     "text": [
      "Cold\n"
     ]
    }
   ],
   "source": [
    " # 11 Input a temperature and classify it using match...case:\n",
    "# < 0 → Freezing\n",
    "\n",
    "# 0–20 → Cold\n",
    "\n",
    "# 21–35 → Moderate\n",
    "\n",
    "# 35 → Hot'\n",
    "temp = int(input(\"Enter the Temperature degree:\"))\n",
    "match temp:\n",
    "    case t if temp<0:\n",
    "        print(\"Freeze\")\n",
    "    case t if temp<=20:\n",
    "        print(\"Cold\")\n",
    "    case t if temp<=35:\n",
    "        print(\"Moderate\")\n",
    "    case _ if temp>35:\n",
    "        print(\"Hot\")"
   ]
  },
  {
   "cell_type": "code",
   "execution_count": 25,
   "id": "cf5e313f-d158-471d-b23f-f4daec0a5273",
   "metadata": {},
   "outputs": [
    {
     "name": "stdin",
     "output_type": "stream",
     "text": [
      "Enter your base number: 3\n",
      "Enter your exponent number: 2\n"
     ]
    },
    {
     "name": "stdout",
     "output_type": "stream",
     "text": [
      "This value of 3 ^ 2 is 9\n"
     ]
    }
   ],
   "source": [
    "# 9  Take two inputs (base and exponent). Compute base ** exponent. Handle invalid inputs (non-numeric) with try...except.\n",
    "try:\n",
    "    base = int(input(\"Enter your base number:\"))\n",
    "    power =int(input(\"Enter your exponent number:\"))\n",
    "    print(\"This value of\",base,\"^\",power,\"is\",base**power)\n",
    "except ValueError:\n",
    "    print(\"Invalid number please Enter a valid number\")\n",
    "\n",
    "    \n"
   ]
  },
  {
   "cell_type": "code",
   "execution_count": null,
   "id": "d6195f9f-42e1-4b21-ab52-6f4e9628b25d",
   "metadata": {},
   "outputs": [],
   "source": []
  }
 ],
 "metadata": {
  "kernelspec": {
   "display_name": "Python 3 (ipykernel)",
   "language": "python",
   "name": "python3"
  },
  "language_info": {
   "codemirror_mode": {
    "name": "ipython",
    "version": 3
   },
   "file_extension": ".py",
   "mimetype": "text/x-python",
   "name": "python",
   "nbconvert_exporter": "python",
   "pygments_lexer": "ipython3",
   "version": "3.11.9"
  }
 },
 "nbformat": 4,
 "nbformat_minor": 5
}
