{
 "cells": [
  {
   "cell_type": "code",
   "execution_count": 20,
   "id": "bbc9b45f-97d9-4209-8a35-79038d8dc4e8",
   "metadata": {},
   "outputs": [
    {
     "name": "stdout",
     "output_type": "stream",
     "text": [
      "Title : PS \n",
      "Author : Kalki \n",
      "ISBN : 974\n",
      "\n",
      "Title : Aayutha Ezhuthu \n",
      "Author : Mani Ratnam \n",
      "Runtime : 164\n"
     ]
    }
   ],
   "source": [
    "# 10.Create a class LibraryItem with __init__ for title and author. Create a subclass Book that inherits from LibraryItem and adds isbn. Override a \n",
    "# method called display_details() to show all details. Create a second subclass DVD that inherits from LibraryItem and adds runtime. Override\n",
    "# display_details()  to show its specific details.\n",
    "# isbn = international standard book number\n",
    "\n",
    "class Library:\n",
    "    def __init__(self,title,author):\n",
    "        self.title = title\n",
    "        self.author = author\n",
    "    def details(self):\n",
    "        print(\"Details\",self.title,self.author)\n",
    "\n",
    "class Book(Library):\n",
    "    def __init__(self,title,author,isbn):\n",
    "        super().__init__(title,author)\n",
    "        self.isbn = isbn\n",
    "    def details(self):\n",
    "        print(\"Title :\",self.title,\"\\nAuthor :\",self.author,\"\\nISBN :\",self.isbn)\n",
    "class DVD(Library):\n",
    "    def __init__(self,title,author,runtime):\n",
    "        super().__init__(title,author)\n",
    "        self.runtime = runtime\n",
    "    def details(self):\n",
    "        print(\"\\nTitle :\",self.title,\"\\nAuthor :\",self.author,\"\\nRuntime :\",self.runtime)\n",
    "b = Book(\"PS\", \"Kalki\", \"974\")\n",
    "d = DVD(\"Aayutha Ezhuthu\", \"Mani Ratnam\",164)\n",
    "\n",
    "b.details()\n",
    "d.details()\n",
    "\n",
    "\n",
    "    \n",
    "        "
   ]
  },
  {
   "cell_type": "code",
   "execution_count": null,
   "id": "152d9f74-a05d-4222-bda8-c497fe86ffde",
   "metadata": {},
   "outputs": [],
   "source": []
  }
 ],
 "metadata": {
  "kernelspec": {
   "display_name": "Python 3 (ipykernel)",
   "language": "python",
   "name": "python3"
  },
  "language_info": {
   "codemirror_mode": {
    "name": "ipython",
    "version": 3
   },
   "file_extension": ".py",
   "mimetype": "text/x-python",
   "name": "python",
   "nbconvert_exporter": "python",
   "pygments_lexer": "ipython3",
   "version": "3.11.9"
  }
 },
 "nbformat": 4,
 "nbformat_minor": 5
}
