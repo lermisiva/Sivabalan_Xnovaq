{
 "cells": [
  {
   "cell_type": "code",
   "execution_count": 45,
   "id": "c7092768-8b12-4389-935e-555146b7589a",
   "metadata": {},
   "outputs": [
    {
     "name": "stdin",
     "output_type": "stream",
     "text": [
      "Enter your num 10\n"
     ]
    },
    {
     "name": "stdout",
     "output_type": "stream",
     "text": [
      "2\n",
      "3\n",
      "5\n",
      "7\n"
     ]
    }
   ],
   "source": [
    "# 10.Create a generator function that yields prime numbers up to a given limit.\n",
    "\n",
    "def main(y):\n",
    "    for i in range(2,y+1):\n",
    "        for j in range(2,int(i**0.5)+1):\n",
    "            if i% j == 0:\n",
    "                break\n",
    "        else:\n",
    "            yield i\n",
    "x = int(input(\"Enter your num\"))\n",
    "get = main(x)\n",
    "for k in get:\n",
    "    print(k)\n",
    "   "
   ]
  },
  {
   "cell_type": "code",
   "execution_count": 26,
   "id": "30d01196-3c4a-415f-ad64-9032ad9a1ead",
   "metadata": {},
   "outputs": [
    {
     "name": "stdout",
     "output_type": "stream",
     "text": [
      "2\n",
      "3\n",
      "4\n",
      "5\n"
     ]
    }
   ],
   "source": [
    "for i in range(2,10):\n",
    "    for j in range(2, \n",
    "    \n",
    "        \n"
   ]
  },
  {
   "cell_type": "code",
   "execution_count": 44,
   "id": "664635e8-648d-4a14-a413-dcc8ddcfbd3b",
   "metadata": {},
   "outputs": [
    {
     "name": "stdout",
     "output_type": "stream",
     "text": [
      "Loop finished normally\n"
     ]
    }
   ],
   "source": [
    "for i in range(5,4):\n",
    "    if i == 3:\n",
    "         break\n",
    "    print(i)\n",
    "else:\n",
    "    print(\"Loop finished normally\")"
   ]
  },
  {
   "cell_type": "code",
   "execution_count": 37,
   "id": "3404f210-fe3c-4a8f-9961-cf66d641ad71",
   "metadata": {},
   "outputs": [
    {
     "name": "stdout",
     "output_type": "stream",
     "text": [
      "1\n"
     ]
    }
   ],
   "source": [
    "n = 1.73\n",
    "print(int(n))"
   ]
  },
  {
   "cell_type": "code",
   "execution_count": null,
   "id": "8df6fa98-bb81-4455-867d-c693f9fd7cf8",
   "metadata": {},
   "outputs": [],
   "source": []
  }
 ],
 "metadata": {
  "kernelspec": {
   "display_name": "Python 3 (ipykernel)",
   "language": "python",
   "name": "python3"
  },
  "language_info": {
   "codemirror_mode": {
    "name": "ipython",
    "version": 3
   },
   "file_extension": ".py",
   "mimetype": "text/x-python",
   "name": "python",
   "nbconvert_exporter": "python",
   "pygments_lexer": "ipython3",
   "version": "3.11.9"
  }
 },
 "nbformat": 4,
 "nbformat_minor": 5
}
