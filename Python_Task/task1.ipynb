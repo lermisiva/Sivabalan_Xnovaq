{
 "cells": [
  {
   "cell_type": "code",
   "execution_count": 4,
   "id": "a33f636a-4f6f-4336-885f-982dcc6981a5",
   "metadata": {},
   "outputs": [
    {
     "name": "stdin",
     "output_type": "stream",
     "text": [
      "Enter Your Input : fd\n",
      "Enter Your Input : fd\n",
      "Enter Your Input : exit\n"
     ]
    }
   ],
   "source": [
    "# That ask for input untill the user types \"exit\" (while true + break)\n",
    "\n",
    "while True:\n",
    "    user = input(\"Enter Your Input :\" )\n",
    "    if user ==  \"exit\" :\n",
    "        break\n",
    "    "
   ]
  },
  {
   "cell_type": "code",
   "execution_count": null,
   "id": "47107f26-9783-40ec-b218-7356f6ec9c30",
   "metadata": {},
   "outputs": [],
   "source": []
  }
 ],
 "metadata": {
  "kernelspec": {
   "display_name": "Python 3 (ipykernel)",
   "language": "python",
   "name": "python3"
  },
  "language_info": {
   "codemirror_mode": {
    "name": "ipython",
    "version": 3
   },
   "file_extension": ".py",
   "mimetype": "text/x-python",
   "name": "python",
   "nbconvert_exporter": "python",
   "pygments_lexer": "ipython3",
   "version": "3.11.9"
  }
 },
 "nbformat": 4,
 "nbformat_minor": 5
}
