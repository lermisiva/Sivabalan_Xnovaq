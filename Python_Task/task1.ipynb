{
 "cells": [
  {
   "cell_type": "code",
   "execution_count": 1,
   "id": "a33f636a-4f6f-4336-885f-982dcc6981a5",
   "metadata": {},
   "outputs": [
    {
     "name": "stdin",
     "output_type": "stream",
     "text": [
      "Enter Your Input : r\n",
      "Enter Your Input : e\n",
      "Enter Your Input : exit\n"
     ]
    }
   ],
   "source": [
    "# That ask for input untill the user types \"exit\" (while true + break)\n",
    "\n",
    "while True:\n",
    "    user = input(\"Enter Your Input :\" )\n",
    "    if user ==  \"exit\" :\n",
    "        break\n",
    "    "
   ]
  },
  {
   "cell_type": "code",
   "execution_count": 17,
   "id": "47107f26-9783-40ec-b218-7356f6ec9c30",
   "metadata": {},
   "outputs": [
    {
     "name": "stdout",
     "output_type": "stream",
     "text": [
      "1\n",
      "2\n",
      "4\n",
      "5\n",
      "7\n",
      "8\n",
      "10\n",
      "11\n",
      "13\n",
      "14\n",
      "16\n",
      "17\n",
      "19\n",
      "20\n",
      "22\n",
      "23\n",
      "25\n",
      "26\n",
      "28\n",
      "29\n"
     ]
    }
   ],
   "source": [
    "# use continue to skip printing multiples of 3 between 1 and 30\n",
    "for n in range(0,30):\n",
    "    if n % 3 == 0:\n",
    "        continue\n",
    "    print(n)"
   ]
  },
  {
   "cell_type": "code",
   "execution_count": null,
   "id": "493ed4d9-01ed-474c-97fe-a1583007c244",
   "metadata": {},
   "outputs": [],
   "source": [
    "# sum of digits\n",
    "n = int(input(\"Enter your num:\"))\n",
    "\n",
    "c = 0\n",
    "while n > 0:\n",
    "    c += n\n",
    "    if c in range(0):\n",
    "        break\n",
    "    \n"
   ]
  },
  {
   "cell_type": "code",
   "execution_count": null,
   "id": "d8c8d6a8-c6e0-4c48-ac1f-69bdf8c905ee",
   "metadata": {},
   "outputs": [],
   "source": []
  }
 ],
 "metadata": {
  "kernelspec": {
   "display_name": "Python 3 (ipykernel)",
   "language": "python",
   "name": "python3"
  },
  "language_info": {
   "codemirror_mode": {
    "name": "ipython",
    "version": 3
   },
   "file_extension": ".py",
   "mimetype": "text/x-python",
   "name": "python",
   "nbconvert_exporter": "python",
   "pygments_lexer": "ipython3",
   "version": "3.11.9"
  }
 },
 "nbformat": 4,
 "nbformat_minor": 5
}
