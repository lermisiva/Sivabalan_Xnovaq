{
 "cells": [
  {
   "cell_type": "code",
   "execution_count": 1,
   "id": "f2d5d5e5-8fe0-44ee-9152-14c456868b99",
   "metadata": {},
   "outputs": [
    {
     "name": "stdout",
     "output_type": "stream",
     "text": [
      "list [8, 10, 11, 12, 5, 7, 13, 15, 15, 3, 3, 3, 8, 3, 14]\n",
      "dict {8: 64, 10: 100, 11: 121, 12: 144, 5: 25, 7: 49, 13: 169, 15: 225, 3: 9, 14: 196}\n",
      "Unique Square_set: {64, 225, 100, 196, 169, 9, 144, 49, 121, 25}\n",
      "SortedTuple: (9, 25, 49, 64, 100, 121, 144, 169, 196, 225)\n"
     ]
    }
   ],
   "source": [
    "10 # Use the random library to generate 15 integers, store them in a list, create a dictionary with number as key and its square as value, extract\n",
    "# unique squares using a set, and display them as a sorted tuple\n",
    "\n",
    "import random\n",
    "num = []\n",
    "for i in range(1,16):\n",
    "    num.append(random.randint(1,16))\n",
    "print(\"list\",num)\n",
    "c= []\n",
    "a= []\n",
    "# numdict = {n:n*n for n in num} \n",
    "for n in num:\n",
    "    c.append(n*n)\n",
    "    a.append(n)\n",
    "numdict = dict(zip(a,c))\n",
    "print(\"dict\",numdict)\n",
    "unique_square = set(numdict.values())\n",
    "unique_tuple = tuple(sorted(unique_square))\n",
    "print(\"Unique Square_set:\",unique_square)\n",
    "print(\"SortedTuple:\",unique_tuple)\n",
    "\n",
    "\n",
    "\n",
    "\n"
   ]
  },
  {
   "cell_type": "code",
   "execution_count": 61,
   "id": "d265e5ef-63b0-45c9-9cdb-0711ea92c88e",
   "metadata": {},
   "outputs": [
    {
     "name": "stdin",
     "output_type": "stream",
     "text": [
      "Enter your city:1 pudgai\n",
      "Enter your city:2 tamil\n",
      "Enter your city:3 chennai\n",
      "Enter your city:4 bangalore\n",
      "Enter your city:5 trichy\n"
     ]
    },
    {
     "name": "stdout",
     "output_type": "stream",
     "text": [
      "['pudgai', 'tamil', 'chennai', 'bangalore', 'trichy']\n",
      "[6, 5, 7, 9, 6]\n",
      "{'pudgai': 6, 'tamil': 5, 'chennai': 7, 'bangalore': 9, 'trichy': 6}\n",
      "(5, 6, 7, 9)\n"
     ]
    }
   ],
   "source": [
    "# 11.Take names of 5 cities from user input (list), use the len() function to store city–name length mapping in a dictionary, create a set of \n",
    "# unique lengths, and finally sort them into a tuple. \n",
    "city = []\n",
    "cl = []\n",
    "for i in range(5):\n",
    "    c =input(f\"Enter your city:{i+1}\")\n",
    "    city.append(c)\n",
    "    cl.append(len(c))\n",
    "    \n",
    "print(city)\n",
    "print(cl)\n",
    "citydict= dict(zip(city,cl)) \n",
    "print(citydict)\n",
    "unique_len = set(citydict.values())\n",
    "sorting_unique = tuple(sorted(unique_len))\n",
    "print(sorting_unique)\n",
    "\n",
    "    "
   ]
  },
  {
   "cell_type": "code",
   "execution_count": null,
   "id": "7fc83b14-3048-41c8-b0a7-9686b51019d9",
   "metadata": {},
   "outputs": [],
   "source": []
  }
 ],
 "metadata": {
  "kernelspec": {
   "display_name": "Python 3 (ipykernel)",
   "language": "python",
   "name": "python3"
  },
  "language_info": {
   "codemirror_mode": {
    "name": "ipython",
    "version": 3
   },
   "file_extension": ".py",
   "mimetype": "text/x-python",
   "name": "python",
   "nbconvert_exporter": "python",
   "pygments_lexer": "ipython3",
   "version": "3.11.9"
  }
 },
 "nbformat": 4,
 "nbformat_minor": 5
}
