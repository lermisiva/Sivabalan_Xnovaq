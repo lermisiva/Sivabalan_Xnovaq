{
 "cells": [
  {
   "cell_type": "code",
   "execution_count": 42,
   "id": "f2d5d5e5-8fe0-44ee-9152-14c456868b99",
   "metadata": {},
   "outputs": [
    {
     "name": "stdout",
     "output_type": "stream",
     "text": [
      "list [11, 4, 13, 12, 4, 4, 14, 15, 11, 16, 4, 6, 8, 16, 3]\n",
      "dict {11: 121, 4: 16, 13: 169, 12: 144, 14: 196, 15: 225, 16: 256, 6: 36, 8: 64, 3: 9}\n",
      "Unique Square _set: {256, 225, 64, 196, 36, 169, 9, 16, 144, 121}\n",
      "SortedTuple: (9, 16, 36, 64, 121, 144, 169, 196, 225, 256)\n"
     ]
    }
   ],
   "source": [
    "10 # Use the random library to generate 15 integers, store them in a list, create a dictionary with number as key and its square as value, extract\n",
    "# unique squares using a set, and display them as a sorted tuple\n",
    "\n",
    "import random\n",
    "num = []\n",
    "for i in range(1,16):\n",
    "    num.append(random.randint(1,16))\n",
    "print(\"list\",num)\n",
    "numdict = {n:n*n for n in num}\n",
    "print(\"dict\",numdict)\n",
    "unique_square = set(numdict.values())\n",
    "unique_tuple = tuple(sorted(unique_square))\n",
    "print(\"Unique Square _set:\",unique_square)\n",
    "print(\"SortedTuple:\",unique_tuple)\n",
    "\n",
    "\n",
    "\n",
    "\n"
   ]
  },
  {
   "cell_type": "code",
   "execution_count": null,
   "id": "d265e5ef-63b0-45c9-9cdb-0711ea92c88e",
   "metadata": {},
   "outputs": [
    {
     "name": "stdin",
     "output_type": "stream",
     "text": [
      "Enter your city:1 chennai\n",
      "Enter your city:2 covai\n",
      "Enter your city:3 pudukkottai\n"
     ]
    }
   ],
   "source": [
    "# 11.Take names of 5 cities from user input (list), use the len() function to store city–name length mapping in a dictionary, create a set of \n",
    "# unique lengths, and finally sort them into a tuple. \n",
    "city = []\n",
    "cl = []\n",
    "for i in range(5):\n",
    "    c =input(f\"Enter your city:{i+1}\")\n",
    "    city.append(c)\n",
    "    cl.append(len(c))\n",
    "    \n",
    "print(city)\n",
    "print(cl)\n",
    "citydict= dict(zip(city,cl)) \n",
    "print(citydict)\n",
    "unique_len = set(citydict.values())\n",
    "sorting_unique = tuple(sorted(unique_len))\n",
    "print(sorting_unique)\n",
    "\n",
    "    "
   ]
  },
  {
   "cell_type": "code",
   "execution_count": null,
   "id": "7fc83b14-3048-41c8-b0a7-9686b51019d9",
   "metadata": {},
   "outputs": [],
   "source": []
  }
 ],
 "metadata": {
  "kernelspec": {
   "display_name": "Python 3 (ipykernel)",
   "language": "python",
   "name": "python3"
  },
  "language_info": {
   "codemirror_mode": {
    "name": "ipython",
    "version": 3
   },
   "file_extension": ".py",
   "mimetype": "text/x-python",
   "name": "python",
   "nbconvert_exporter": "python",
   "pygments_lexer": "ipython3",
   "version": "3.11.9"
  }
 },
 "nbformat": 4,
 "nbformat_minor": 5
}
