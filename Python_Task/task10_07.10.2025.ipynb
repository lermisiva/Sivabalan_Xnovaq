{
 "cells": [
  {
   "cell_type": "code",
   "execution_count": 16,
   "id": "36badeac-6f58-4d8c-8a2c-32a4404a3f24",
   "metadata": {},
   "outputs": [
    {
     "name": "stdin",
     "output_type": "stream",
     "text": [
      "Enter your name : s\n"
     ]
    },
    {
     "name": "stdout",
     "output_type": "stream",
     "text": [
      "s\n"
     ]
    },
    {
     "name": "stdin",
     "output_type": "stream",
     "text": [
      "Enter value a : 2\n",
      "Enter value b : 1\n"
     ]
    },
    {
     "name": "stdout",
     "output_type": "stream",
     "text": [
      "3\n"
     ]
    },
    {
     "name": "stdin",
     "output_type": "stream",
     "text": [
      "Enter your key : s\n",
      "Enter your value : w\n"
     ]
    },
    {
     "data": {
      "text/plain": [
       "{'s': 'w'}"
      ]
     },
     "execution_count": 16,
     "metadata": {},
     "output_type": "execute_result"
    }
   ],
   "source": [
    "# 10.Create a decorator that logs every time a function is called, along with its arguments, return value, and timestamp.\n",
    "\n",
    "# Use a custom decorator called @log_to_file\n",
    "\n",
    "# Store logs in a file named function_logs.txt\n",
    "\n",
    "# Use functools.wraps to preserve metadata\n",
    "import datetime\n",
    "from functools import wraps\n",
    "def log_to_file(func):\n",
    "    @wraps(func) # used to give the preserve data without this the func name is log \n",
    "    def log(*args,**kwargs):\n",
    "        result = func(*args,**kwargs)\n",
    "        # current_ts = datetime.datetime.now().timestamp()\n",
    "        current_ts = datetime.datetime.now().strftime(\"%Y-%m-%d %H:%M:%S\")\n",
    "        with open(\"func_log.txt\",\"a\") as file:\n",
    "            file.write(\"\\n\")\n",
    "            file.write(f\"\\t\\nFunction name :{func.__name__} \\nARG :{args} \\nKeyword ARG :{kwargs} \\nTimestamp :{current_ts} \\nReturn value:{result}\")\n",
    "        return result\n",
    "    return log\n",
    "@log_to_file\n",
    "def log_func():\n",
    "    name = input(\"Enter your name :\")\n",
    "    print(name)\n",
    "    return name\n",
    "log_func()\n",
    "@log_to_file\n",
    "def add(a,b):\n",
    "    print(a+b)\n",
    "    return a+b\n",
    "a = int(input(\"Enter value a :\"))\n",
    "b = int(input(\"Enter value b :\"))\n",
    "add(a,b)\n",
    "\n",
    "# print(add.__name__)    #wraps function work here\n",
    "@log_to_file\n",
    "def key_value():\n",
    "    a = input(\"Enter your key :\")\n",
    "    b = input(\"Enter your value :\")\n",
    "    dict_1 = {a:b}\n",
    "    return dict_1\n",
    "key_value()\n",
    "\n",
    "        \n",
    "        "
   ]
  },
  {
   "cell_type": "code",
   "execution_count": 39,
   "id": "96db71fe-c952-4af3-8c57-9caa4e62619a",
   "metadata": {},
   "outputs": [
    {
     "data": {
      "text/plain": [
       "10"
      ]
     },
     "execution_count": 39,
     "metadata": {},
     "output_type": "execute_result"
    }
   ],
   "source": [
    "def add(a, b):\n",
    "    result = a + b\n",
    "    with open(\"sample.txt\", \"a\") as log_file:\n",
    "        log_file.write(f\"add() called with {a} and {b}, result = {result}\\n\")\n",
    "    return result\n",
    "\n",
    "add(5, 10)\n",
    "add(3, 7)"
   ]
  },
  {
   "cell_type": "code",
   "execution_count": null,
   "id": "0a135332-6106-4271-9ade-b8b495a6b186",
   "metadata": {},
   "outputs": [],
   "source": []
  }
 ],
 "metadata": {
  "kernelspec": {
   "display_name": "Python 3 (ipykernel)",
   "language": "python",
   "name": "python3"
  },
  "language_info": {
   "codemirror_mode": {
    "name": "ipython",
    "version": 3
   },
   "file_extension": ".py",
   "mimetype": "text/x-python",
   "name": "python",
   "nbconvert_exporter": "python",
   "pygments_lexer": "ipython3",
   "version": "3.11.9"
  }
 },
 "nbformat": 4,
 "nbformat_minor": 5
}
