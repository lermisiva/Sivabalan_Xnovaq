{
 "cells": [
  {
   "cell_type": "code",
   "execution_count": 20,
   "id": "2a1f0575-4459-4ada-aafd-8acdc161d6e1",
   "metadata": {},
   "outputs": [
    {
     "name": "stdin",
     "output_type": "stream",
     "text": [
      "Enter your num: 8\n"
     ]
    },
    {
     "name": "stdout",
     "output_type": "stream",
     "text": [
      "* # * # * # * # \n",
      "# * # * # * # * \n",
      "* # * # * # * # \n",
      "# * # * # * # * \n",
      "* # * # * # * # \n",
      "# * # * # * # * \n",
      "* # * # * # * # \n",
      "# * # * # * # * \n"
     ]
    }
   ],
   "source": [
    "'''\n",
    "10  \n",
    "* # * # * #\n",
    "# * # * # *\n",
    "* # * # * #\n",
    "# * # * # *\n",
    "* # * # * #\n",
    "# * # * # *  Using nested while loop.'''\n",
    "i=1\n",
    "n= int(input(\"Enter your num:\"))\n",
    "while i<=n:\n",
    "    j=1\n",
    "    while j<=n:\n",
    "        if (i+j)%2 == 0:\n",
    "            print(\"*\", end =\" \")\n",
    "        else:\n",
    "            print(\"#\", end =\" \")\n",
    "        j+=1\n",
    "    i+=1\n",
    "    print()"
   ]
  },
  {
   "cell_type": "code",
   "execution_count": 14,
   "id": "ecb762e6-4d36-466e-8f85-fa2a825d6e1c",
   "metadata": {},
   "outputs": [
    {
     "name": "stdin",
     "output_type": "stream",
     "text": [
      "Enter the integer: 0\n"
     ]
    },
    {
     "name": "stdout",
     "output_type": "stream",
     "text": [
      "The Square of the integer is : 0\n"
     ]
    }
   ],
   "source": [
    "# 2 Accept an integer from the user and print its square. Use try..else to handle invalid inputs.\n",
    "try:\n",
    "    n =int(input(\"Enter the integer:\"))\n",
    "    print(\"The Square of the integer is :\",n**2)\n",
    "except ValueError:\n",
    "    print(\"Invalid input  Enter a valid number\")"
   ]
  },
  {
   "cell_type": "code",
   "execution_count": 1,
   "id": "3083a06f-26e1-4449-9912-35110098148e",
   "metadata": {},
   "outputs": [
    {
     "name": "stdout",
     "output_type": "stream",
     "text": [
      "1 .Sunday \n",
      "2 .Monday \n",
      "3 .Tuesday \n",
      "4 .Wednesday \n",
      "5 .Thursday \n",
      "6 .Friday \n",
      "7 .Saturday\n"
     ]
    },
    {
     "name": "stdin",
     "output_type": "stream",
     "text": [
      "Choose a num between 1-7:  3\n"
     ]
    },
    {
     "name": "stdout",
     "output_type": "stream",
     "text": [
      "Tuesday\n"
     ]
    }
   ],
   "source": [
    "# 3 Write a program that takes a day number (1–7) and prints the day name. If invalid, print \"Invalid Day\".\n",
    "print(\"1 .Sunday \\n2 .Monday \\n3 .Tuesday \\n4 .Wednesday \\n5 .Thursday \\n6 .Friday \\n7 .Saturday\")\n",
    "user = int(input(\"Choose a num between 1-7: \"))\n",
    "if user == 1:\n",
    "    print(\"Sunday\")\n",
    "elif user == 2:\n",
    "    print(\"Monday\")\n",
    "elif user == 3:\n",
    "    print(\"Tuesday\")\n",
    "elif user == 4:\n",
    "    print(\"Wednesday\")\n",
    "elif user == 5:\n",
    "    print(\"Thursday\")\n",
    "elif user == 6:\n",
    "    print(\"Friday\")\n",
    "elif user == 7:\n",
    "    print(\"Saturday\")\n",
    "else:\n",
    "    print(\"Invalid input Enter a Valid number\")\n",
    "    "
   ]
  },
  {
   "cell_type": "code",
   "execution_count": 15,
   "id": "33902230-194d-4112-80bb-84c082fd9c2d",
   "metadata": {},
   "outputs": [
    {
     "name": "stdin",
     "output_type": "stream",
     "text": [
      "Enter your number : 4\n"
     ]
    },
    {
     "name": "stdout",
     "output_type": "stream",
     "text": [
      "# # # # \n",
      "#     # \n",
      "#     # \n",
      "# # # # \n"
     ]
    }
   ],
   "source": [
    "# 4 Hollow block\n",
    "n = int(input(\"Enter your number :\"))\n",
    "i = 1\n",
    "while i<=n:\n",
    "    j = 1\n",
    "    while j<=n:\n",
    "        if i == 1 or j == n :\n",
    "            print(\"#\",end = \" \")\n",
    "        elif j == 1 or i == n:\n",
    "            print(\"#\",end = \" \")\n",
    "        else:\n",
    "            print(\" \", end = \" \")\n",
    "        j+=1\n",
    "    i+=1\n",
    "    print()\n",
    "    "
   ]
  },
  {
   "cell_type": "code",
   "execution_count": 3,
   "id": "5ec9592c-98e2-4010-999c-42d057de677c",
   "metadata": {},
   "outputs": [
    {
     "name": "stdout",
     "output_type": "stream",
     "text": [
      "2\n",
      "4\n",
      "6\n",
      "8\n",
      "10\n",
      "12\n",
      "14\n",
      "16\n",
      "18\n",
      "20\n"
     ]
    }
   ],
   "source": [
    "#1. Print all even numbers between 1–20, skipping odd numbers using continue.\n",
    "i = 1\n",
    "while i<=20:\n",
    "    if i%2 != 0:\n",
    "        i+=1\n",
    "        continue\n",
    "    print(i)\n",
    "    i+=1\n",
    "    "
   ]
  },
  {
   "cell_type": "code",
   "execution_count": 13,
   "id": "645ea5c0-1030-46e4-9d89-5f3b87de46db",
   "metadata": {},
   "outputs": [
    {
     "name": "stdin",
     "output_type": "stream",
     "text": [
      "Enter your Num: 3\n"
     ]
    },
    {
     "name": "stdout",
     "output_type": "stream",
     "text": [
      "1 Not Match 3\n",
      "2 Not Match 3\n",
      "Found  3\n"
     ]
    }
   ],
   "source": [
    "#5 Search for a number in a list. If found, break the loop; if not found, execute the else block.\n",
    "i =1 \n",
    "n =int(input(\"Enter your Num:\"))\n",
    "while i<=20:\n",
    "    if n ==i:\n",
    "        print(\"Found \",n)\n",
    "        break\n",
    "    else:\n",
    "        print(i,\"Not Match\",n)\n",
    "    i+=1\n",
    "    \n",
    "    \n"
   ]
  },
  {
   "cell_type": "code",
   "execution_count": 24,
   "id": "5d6ae03e-e0af-4018-a0b6-c9d2f4cdca64",
   "metadata": {},
   "outputs": [
    {
     "name": "stdin",
     "output_type": "stream",
     "text": [
      "Enter a number:  12\n"
     ]
    },
    {
     "name": "stdout",
     "output_type": "stream",
     "text": [
      "This num is not lies between 100 and 200\n"
     ]
    }
   ],
   "source": [
    "#6 Use comparison and logical operators to check if a number lies between 100 and 200 and is divisible by 5.\n",
    "n = int(input(\"Enter a number: \"))\n",
    "if n >= 100  and n <= 200:\n",
    "    if  n%5 == 0:\n",
    "        print(\"This number is divisibe by 5\")\n",
    "    else:\n",
    "        print(\"This num not divisible by 5\")\n",
    "else:\n",
    "    print(\"This num is not lies between 100 and 200\")\n",
    "\n",
    "        \n",
    "    "
   ]
  },
  {
   "cell_type": "code",
   "execution_count": 28,
   "id": "4e0e84ae-5839-4a09-af52-b00fed542eed",
   "metadata": {},
   "outputs": [
    {
     "name": "stdin",
     "output_type": "stream",
     "text": [
      "Enter a number:  2\n",
      "Enter a division number:  3\n"
     ]
    },
    {
     "name": "stdout",
     "output_type": "stream",
     "text": [
      "0.6666666666666666\n"
     ]
    }
   ],
   "source": [
    "#7 Take two numbers as input and perform division. Handle ZeroDivisionError and invalid input using try..else.\n",
    "try:\n",
    "    x = int(input(\"Enter a number: \"))\n",
    "    y = int(input(\"Enter a division number: \"))\n",
    "\n",
    "    n = x/y\n",
    "    print(n)\n",
    "except ZeroDivisionError:\n",
    "    print(\"Give me Another division num 0 is not applicable\")\n",
    "except ValueError:\n",
    "    print(\"Invalid input\")\n",
    "    "
   ]
  },
  {
   "cell_type": "code",
   "execution_count": null,
   "id": "2e885e64-d722-4184-846d-fa3b5e1fea6c",
   "metadata": {},
   "outputs": [],
   "source": []
  }
 ],
 "metadata": {
  "kernelspec": {
   "display_name": "Python 3 (ipykernel)",
   "language": "python",
   "name": "python3"
  },
  "language_info": {
   "codemirror_mode": {
    "name": "ipython",
    "version": 3
   },
   "file_extension": ".py",
   "mimetype": "text/x-python",
   "name": "python",
   "nbconvert_exporter": "python",
   "pygments_lexer": "ipython3",
   "version": "3.11.9"
  }
 },
 "nbformat": 4,
 "nbformat_minor": 5
}
