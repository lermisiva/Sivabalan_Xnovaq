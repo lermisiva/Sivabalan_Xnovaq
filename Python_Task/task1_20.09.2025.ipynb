{
 "cells": [
  {
   "cell_type": "code",
   "execution_count": 2,
   "id": "a33f636a-4f6f-4336-885f-982dcc6981a5",
   "metadata": {},
   "outputs": [
    {
     "name": "stdin",
     "output_type": "stream",
     "text": [
      "Enter Your Input : e\n",
      "Enter Your Input : w\n",
      "Enter Your Input : exit\n"
     ]
    }
   ],
   "source": [
    "# 10 That ask for input untill the user types \"exit\" (while true + break)\n",
    "\n",
    "while True:\n",
    "    user = input(\"Enter Your Input :\" )\n",
    "    if user ==  \"exit\" :\n",
    "        break\n",
    "    "
   ]
  },
  {
   "cell_type": "code",
   "execution_count": 45,
   "id": "c31ec867-39bc-4ac2-b80f-041731076d7c",
   "metadata": {},
   "outputs": [
    {
     "name": "stdin",
     "output_type": "stream",
     "text": [
      "Enter yuour num: 12\n"
     ]
    },
    {
     "name": "stdout",
     "output_type": "stream",
     "text": [
      "Sum of 12 is 3\n"
     ]
    }
   ],
   "source": [
    "# 3 summ of digits\n",
    "num = int(input(\"Enter yuour num:\"))\n",
    "a =str(num)\n",
    "num =0\n",
    "for i in a:\n",
    "    b = int(i)\n",
    "    c = num + b\n",
    "    num = c\n",
    "print(\"Sum of\",a,\"is\",c)\n",
    "    "
   ]
  },
  {
   "cell_type": "code",
   "execution_count": 17,
   "id": "47107f26-9783-40ec-b218-7356f6ec9c30",
   "metadata": {},
   "outputs": [
    {
     "name": "stdout",
     "output_type": "stream",
     "text": [
      "1\n",
      "2\n",
      "4\n",
      "5\n",
      "7\n",
      "8\n",
      "10\n",
      "11\n",
      "13\n",
      "14\n",
      "16\n",
      "17\n",
      "19\n",
      "20\n",
      "22\n",
      "23\n",
      "25\n",
      "26\n",
      "28\n",
      "29\n"
     ]
    }
   ],
   "source": [
    "#7 use continue to skip printing multiples of 3 between 1 and 30\n",
    "for n in range(0,30):\n",
    "    if n % 3 == 0:\n",
    "        continue\n",
    "    print(n)"
   ]
  },
  {
   "cell_type": "code",
   "execution_count": 15,
   "id": "d8c8d6a8-c6e0-4c48-ac1f-69bdf8c905ee",
   "metadata": {},
   "outputs": [
    {
     "name": "stdout",
     "output_type": "stream",
     "text": [
      "0\n",
      "2\n",
      "4\n",
      "6\n",
      "8\n",
      "10\n",
      "12\n",
      "14\n",
      "16\n",
      "18\n",
      "20\n",
      "22\n",
      "24\n",
      "26\n",
      "28\n",
      "30\n",
      "32\n",
      "34\n",
      "36\n",
      "38\n",
      "40\n",
      "42\n",
      "44\n",
      "46\n",
      "48\n"
     ]
    }
   ],
   "source": [
    "# 1\n",
    "for i in range(0,50,2):\n",
    "    print(i)"
   ]
  },
  {
   "cell_type": "code",
   "execution_count": 4,
   "id": "493ed4d9-01ed-474c-97fe-a1583007c244",
   "metadata": {},
   "outputs": [
    {
     "name": "stdin",
     "output_type": "stream",
     "text": [
      "Enter your num: 0\n"
     ]
    },
    {
     "name": "stdout",
     "output_type": "stream",
     "text": [
      "zero\n"
     ]
    }
   ],
   "source": [
    "# 9 \n",
    "n = int(input(\"Enter your num:\"))\n",
    "if n >= 1:\n",
    "    print(\"Positive\")\n",
    "elif n<0:\n",
    "    print(\"negative\")\n",
    "else:\n",
    "    print(\"zero\")\n",
    "    \n"
   ]
  },
  {
   "cell_type": "code",
   "execution_count": 2,
   "id": "0dedae79-a3f7-4785-a90f-aeabeb242871",
   "metadata": {},
   "outputs": [
    {
     "name": "stdin",
     "output_type": "stream",
     "text": [
      "Enter your number 6\n"
     ]
    },
    {
     "name": "stdout",
     "output_type": "stream",
     "text": [
      "1 * 6 = 6\n",
      "2 * 6 = 12\n",
      "3 * 6 = 18\n",
      "4 * 6 = 24\n",
      "5 * 6 = 30\n",
      "6 * 6 = 36\n",
      "7 * 6 = 42\n",
      "8 * 6 = 48\n",
      "9 * 6 = 54\n",
      "10 * 6 = 60\n"
     ]
    }
   ],
   "source": [
    "# 2\n",
    "n = int(input(\"Enter your number\"))\n",
    "c=1\n",
    "while (c<=10):\n",
    "    print(c,\"*\",n,\"=\" ,n*c)\n",
    "    c += 1\n",
    "\n",
    " "
   ]
  },
  {
   "cell_type": "code",
   "execution_count": 19,
   "id": "08e09d6b-659b-49a5-ab83-98782a1f0b1c",
   "metadata": {},
   "outputs": [
    {
     "name": "stdin",
     "output_type": "stream",
     "text": [
      "Enter a number:  4\n"
     ]
    },
    {
     "name": "stdout",
     "output_type": "stream",
     "text": [
      "Factorial of 4 is 24\n"
     ]
    }
   ],
   "source": [
    "# 4 factorial\n",
    "num = int(input(\"Enter a number: \"))\n",
    "fact = 1\n",
    "\n",
    "\n",
    "for i in range(1, num + 1):\n",
    "    fact *= i\n",
    "print(\"Factorial of\", num, \"is\", fact)\n"
   ]
  },
  {
   "cell_type": "code",
   "execution_count": 2,
   "id": "3b9761af-a817-4a48-b663-2c27114e1099",
   "metadata": {},
   "outputs": [
    {
     "name": "stdout",
     "output_type": "stream",
     "text": [
      "0\n",
      "1\n",
      "2\n",
      "3\n",
      "4\n",
      "5\n",
      "6\n",
      "7\n",
      "8\n",
      "9\n",
      "10\n",
      "11\n",
      "12\n"
     ]
    }
   ],
   "source": [
    "# 6 when num reach 13 use break\n",
    "i = 0\n",
    "while True:\n",
    "    print(i)\n",
    "    i+=1\n",
    "    if i == 13:\n",
    "        break"
   ]
  },
  {
   "cell_type": "code",
   "execution_count": 1,
   "id": "1ff17711-48e5-45e6-a931-23e264a9389c",
   "metadata": {},
   "outputs": [
    {
     "name": "stdin",
     "output_type": "stream",
     "text": [
      "Enter your num 2\n",
      "Enter your num 1\n",
      "Enter your num 7\n"
     ]
    },
    {
     "name": "stdout",
     "output_type": "stream",
     "text": [
      "7 is the Largest num\n"
     ]
    }
   ],
   "source": [
    "# 8 largest num\n",
    "a = int(input(\"Enter your num\"))\n",
    "b = int(input(\"Enter your num\"))\n",
    "c = int(input(\"Enter your num\"))\n",
    "\n",
    "if a>b and a>c:\n",
    "    print(a,\"is the Largest num\")\n",
    "elif b>c:\n",
    "    print(b,\"is the Largest num\")\n",
    "else:\n",
    "    print(c,\"is the Largest num\")\n",
    " "
   ]
  },
  {
   "cell_type": "code",
   "execution_count": 12,
   "id": "e7ea9223-2ef2-411a-9154-891ca48f6a93",
   "metadata": {},
   "outputs": [
    {
     "name": "stdin",
     "output_type": "stream",
     "text": [
      "Enter a year 2000\n"
     ]
    },
    {
     "name": "stdout",
     "output_type": "stream",
     "text": [
      "Leap Year\n"
     ]
    }
   ],
   "source": [
    "# 11 leap year\n",
    "n = int(input(\"Enter a year\"))\n",
    "if n%4 == 0  and n%100 != 0:\n",
    "    print(\"Leap Year\")\n",
    "elif n%400 == 0:\n",
    "    print(\"Leap Year\")\n",
    "else:\n",
    "    print(\"Not Leap Year\")"
   ]
  },
  {
   "cell_type": "code",
   "execution_count": 2,
   "id": "587442f7-c227-4e91-beaa-c852a7d09b77",
   "metadata": {},
   "outputs": [
    {
     "name": "stdin",
     "output_type": "stream",
     "text": [
      "Enter your num 10\n"
     ]
    },
    {
     "name": "stdout",
     "output_type": "stream",
     "text": [
      "0\n",
      "1\n",
      "1\n",
      "2\n",
      "3\n",
      "5\n",
      "8\n",
      "13\n",
      "21\n",
      "34\n",
      "55\n",
      "89\n"
     ]
    }
   ],
   "source": [
    "# 5 fibinocci series\n",
    "num = int(input(\"Enter your num\"))\n",
    "x = 0\n",
    "y = 1\n",
    "fib = 0\n",
    "print(x)\n",
    "print(y)\n",
    "for i in range(num):\n",
    "    fib = x+y\n",
    "    print(fib)\n",
    "    x = y\n",
    "    y = fib\n",
    "    \n",
    "    \n",
    "    "
   ]
  },
  {
   "cell_type": "code",
   "execution_count": null,
   "id": "c7231a82-e61b-4920-bad6-f8f6a944586e",
   "metadata": {},
   "outputs": [],
   "source": []
  }
 ],
 "metadata": {
  "kernelspec": {
   "display_name": "Python 3 (ipykernel)",
   "language": "python",
   "name": "python3"
  },
  "language_info": {
   "codemirror_mode": {
    "name": "ipython",
    "version": 3
   },
   "file_extension": ".py",
   "mimetype": "text/x-python",
   "name": "python",
   "nbconvert_exporter": "python",
   "pygments_lexer": "ipython3",
   "version": "3.11.9"
  }
 },
 "nbformat": 4,
 "nbformat_minor": 5
}
