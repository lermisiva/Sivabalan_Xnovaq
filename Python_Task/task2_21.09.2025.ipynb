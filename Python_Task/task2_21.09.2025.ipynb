{
 "cells": [
  {
   "cell_type": "code",
   "execution_count": 23,
   "id": "ee25f1a3-8411-48bd-91d2-71bce54d4bbb",
   "metadata": {},
   "outputs": [
    {
     "name": "stdout",
     "output_type": "stream",
     "text": [
      "2 is not Divisible by 9\n",
      "4 is not Divisible by 9\n",
      "6 is not Divisible by 9\n",
      "8 is not Divisible by 9\n",
      "10 is not Divisible by 9\n",
      "12 is not Divisible by 9\n",
      "14 is not Divisible by 9\n",
      "16 is not Divisible by 9\n",
      "Found 18  is Divisible by 9\n"
     ]
    }
   ],
   "source": [
    "# 10 loop num from 1 to 20 if even num divisible by 9 is found break\n",
    "for i in range(1,20):\n",
    "        if i>0 and i% 2 == 0:\n",
    "            if i % 9 == 0 :\n",
    "                print(\"Found\",i,\" is Divisible by 9\")\n",
    "                break\n",
    "            else:\n",
    "                print(i,\"is not Divisible by 9\")"
   ]
  },
  {
   "cell_type": "code",
   "execution_count": 17,
   "id": "8e2982c6-e19b-4585-b0cf-f253c5d4678b",
   "metadata": {},
   "outputs": [
    {
     "name": "stdin",
     "output_type": "stream",
     "text": [
      "Enter the Temperature degree: 20\n"
     ]
    },
    {
     "name": "stdout",
     "output_type": "stream",
     "text": [
      "Cold\n"
     ]
    }
   ],
   "source": [
    " # 11 Input a temperature and classify it using match...case:\n",
    "# < 0 → Freezing\n",
    "\n",
    "# 0–20 → Cold\n",
    "\n",
    "# 21–35 → Moderate\n",
    "\n",
    "# 35 → Hot'\n",
    "temp = int(input(\"Enter the Temperature degree:\"))\n",
    "match temp:\n",
    "    case t if temp<0:\n",
    "        print(\"Freeze\")\n",
    "    case t if temp<=20:\n",
    "        print(\"Cold\")\n",
    "    case t if temp<=35:\n",
    "        print(\"Moderate\")\n",
    "    case _ if temp>35:\n",
    "        print(\"Hot\")"
   ]
  },
  {
   "cell_type": "code",
   "execution_count": 25,
   "id": "cf5e313f-d158-471d-b23f-f4daec0a5273",
   "metadata": {},
   "outputs": [
    {
     "name": "stdin",
     "output_type": "stream",
     "text": [
      "Enter your base number: 3\n",
      "Enter your exponent number: 2\n"
     ]
    },
    {
     "name": "stdout",
     "output_type": "stream",
     "text": [
      "This value of 3 ^ 2 is 9\n"
     ]
    }
   ],
   "source": [
    "# 9  Take two inputs (base and exponent). Compute base ** exponent. Handle invalid inputs (non-numeric) with try...except.\n",
    "try:\n",
    "    base = int(input(\"Enter your base number:\"))\n",
    "    power =int(input(\"Enter your exponent number:\"))\n",
    "    print(\"This value of\",base,\"^\",power,\"is\",base**power)\n",
    "except ValueError:\n",
    "    print(\"Invalid number please Enter a valid number\")\n",
    "\n",
    "    \n"
   ]
  },
  {
   "cell_type": "code",
   "execution_count": 6,
   "id": "d6195f9f-42e1-4b21-ab52-6f4e9628b25d",
   "metadata": {},
   "outputs": [
    {
     "name": "stdin",
     "output_type": "stream",
     "text": [
      "Enter a number: 16\n"
     ]
    },
    {
     "name": "stdout",
     "output_type": "stream",
     "text": [
      "Its not a prime number\n"
     ]
    }
   ],
   "source": [
    "# 1  Input a number and check if it is prime using for...else\n",
    "num = int(input(\"Enter a number:\"))\n",
    "\n",
    "for i in range(2,num):\n",
    "    if num % i == 0:\n",
    "        print(\"Its not a prime number\")\n",
    "        break\n",
    "else:\n",
    "    print(\"Its a prime number\")\n",
    "    "
   ]
  },
  {
   "cell_type": "code",
   "execution_count": 2,
   "id": "40d101bb-f5df-4713-bc3f-57872e596a63",
   "metadata": {},
   "outputs": [
    {
     "name": "stdin",
     "output_type": "stream",
     "text": [
      "Enter num a =  3\n",
      "Enter num b =  2\n"
     ]
    },
    {
     "name": "stdout",
     "output_type": "stream",
     "text": [
      "1 . Addition \n",
      "2 . Subraction\n",
      "3 . Multiplication\n",
      "4 .Division\n",
      "5 .Quit\n"
     ]
    },
    {
     "name": "stdin",
     "output_type": "stream",
     "text": [
      "Enter the option: 1\n"
     ]
    },
    {
     "name": "stdout",
     "output_type": "stream",
     "text": [
      "The addidtion of 3 + 2 = 5\n"
     ]
    }
   ],
   "source": [
    " # 2 Build a calculator with match...case to perform addition, subtraction, multiplication, and division.\n",
    "a = int(input(\"Enter num a = \"))\n",
    "b = int(input(\"Enter num b = \"))\n",
    "\n",
    "print(\"1 . Addition \\n2 . Subraction\\n3 . Multiplication\\n4 .Division\\n5 .Quit\")\n",
    "user = int(input(\"Enter the option:\"))\n",
    "\n",
    "match user:\n",
    "    case add if user == 1:\n",
    "        print(\"The addidtion of\",a,\"+\",b,\"=\",a+b)\n",
    "    case sub if user == 2:\n",
    "        print(\"The subraction of\",a,\"-\",b,\"=\",a-b)\n",
    "    case mul if user == 3:\n",
    "        print(\"The Multiplication of \",a,\"*\",b,\"=\",a*b)\n",
    "    case div if user == 4 :\n",
    "        if b>0:\n",
    "            print(\"The Division of\",a,\"/\",b,\"=\",a/b)\n",
    "        else:\n",
    "            print(\"Invalid input number not divisible by zero\")\n",
    "    case _ if user == 5:\n",
    "        print(\"Thank you\")\n",
    "        "
   ]
  },
  {
   "cell_type": "code",
   "execution_count": null,
   "id": "e6fa27c6-33bc-44e0-b375-6082ddcc7632",
   "metadata": {},
   "outputs": [],
   "source": []
  }
 ],
 "metadata": {
  "kernelspec": {
   "display_name": "Python 3 (ipykernel)",
   "language": "python",
   "name": "python3"
  },
  "language_info": {
   "codemirror_mode": {
    "name": "ipython",
    "version": 3
   },
   "file_extension": ".py",
   "mimetype": "text/x-python",
   "name": "python",
   "nbconvert_exporter": "python",
   "pygments_lexer": "ipython3",
   "version": "3.11.9"
  }
 },
 "nbformat": 4,
 "nbformat_minor": 5
}
